{
 "cells": [
  {
   "cell_type": "markdown",
   "metadata": {},
   "source": [
    "[![londonr-banner-logo](../images/londonr-banner.png)](https://www.londonr.org/)"
   ]
  },
  {
   "cell_type": "markdown",
   "metadata": {},
   "source": [
    "<div style = \"text-align: right\"><font size = 3 color = \"#B22222\" face = \"verdana\"><b>- LondonR - Python for R Users - </b></font></div>\n",
    "<div style = \"text-align: right\"><font><i>By 'Dayo Oguntoyinbo</i></font></div>\n",
    "<div style = \"text-align: right\"><font>16th December 2019</font></div>"
   ]
  },
  {
   "cell_type": "markdown",
   "metadata": {
    "slideshow": {
     "slide_type": "slide"
    }
   },
   "source": [
    "# Part A - Installation and Environment"
   ]
  },
  {
   "cell_type": "markdown",
   "metadata": {
    "slideshow": {
     "slide_type": "subslide"
    }
   },
   "source": [
    "- Installation\n",
    "- Python on Command Line\n",
    "- Python and conda command-line tools"
   ]
  },
  {
   "cell_type": "markdown",
   "metadata": {},
   "source": [
    "## Python installation "
   ]
  },
  {
   "cell_type": "markdown",
   "metadata": {},
   "source": [
    "- With Anaconda distribution (already) installed from https://www.anaconda.com/distribution/\n",
    "- Start Anaconda via **Anaconda Prompt** (preferably) or the use of the GUI"
   ]
  },
  {
   "cell_type": "markdown",
   "metadata": {},
   "source": [
    "## Python environments "
   ]
  },
  {
   "cell_type": "markdown",
   "metadata": {},
   "source": [
    "There are a few implementations of Python environments including `virtualenv`, `pipenv` and `conda env`. One of the first was `virtualenv` followed by `pipenv`, which was developed as a more featured version of `virtualenv`. These work best with base Python installations. We will be using `conda` environments since they are easy to get started with and integrate best with the **Anaconda** distribution."
   ]
  },
  {
   "cell_type": "markdown",
   "metadata": {},
   "source": [
    "## The `conda` command"
   ]
  },
  {
   "cell_type": "markdown",
   "metadata": {},
   "source": [
    "The **Anaconda** distribution is specifically designed to help manage your Python installation. To do so, it provides a `conda` command-line tool, which contains a set of sub-commands. Typing in `conda` or `conda -h` will display the list of sub-commands available."
   ]
  },
  {
   "cell_type": "markdown",
   "metadata": {},
   "source": [
    "**Tip**\n",
    "\n",
    "Any time you are using a command-line tool, adding `-h` after the command should open up the help for that command."
   ]
  },
  {
   "cell_type": "markdown",
   "metadata": {},
   "source": [
    "In any command-line tool, there are positional arguments and optional arguments:\n",
    "- Positional arguments are separated by spaces.\n",
    "- Optional arguments are written with a `-` or `--`, and may need to be followed by an additional argument.\n",
    "\n",
    "For example:\n",
    "- `create` is a positional argument for the `conda` command, and is therefore written as `conda create`.\n",
    "- `-h` (or `--help`) is an optional argument which loads the help for a command. It does not need to be followed by any other arguments.\n",
    "- The syntax to create a new environment is `conda create -n <environment_name>`. The optional argument `-n` is used as a way of asserting that the argument following it will be the environment name.\n",
    "    \n",
    "Therefore the command to create a new environment called `londonr-env` would be `conda create -n londonr-env`. \n",
    "\n",
    "A list of useful commands for managing your environments:\n",
    "To install a package, you would call the `conda install` command, followed by the package name. This will search for the package on Anaconda Cloud (https://anaconda.org/anaconda/repo). You can also use `==` to specify which version of the package you would like to install. For example `conda install pandas` to install the latest version of **pandas** and `conda install pandas==0.25.0` to install a specific version. You can call `conda install -h` to see the list of the options available when installing packages. \n",
    "\n",
    "- `conda env create -f environment.yml` creates environment from `environment.yml`.\n",
    "- `conda activate londonr-env` activates the environment - `londonr-env`.\n",
    "- `conda env export > environment.yml --no-builds` updates the `environemnt.yml` when needed.\n",
    "- `conda deactivate` deactivate the current environment.\n",
    "- Packages to be added to the environment can be added after the conda `create env` command such as: `conda create -n myenv pandas scipy`.\n",
    "- `conda install --file requirements.txt` install requirement file.\n",
    "- `conda install -n myenv mypackage` will install a package to the specified environment. If you do not specify the environment name, the package will be installed to the current environment.\n",
    "- `conda env list` will show a list of created environments and their location.\n",
    "\n",
    "Other useful commands:\n",
    "- `conda list` will display a list of installed packages and their versions.\n",
    "- `conda update` will update a package to the latest version.\n",
    "- `conda uninstall` or `conda remove` can be used to uninstall a package."
   ]
  },
  {
   "cell_type": "markdown",
   "metadata": {},
   "source": [
    "## The `pip` command "
   ]
  },
  {
   "cell_type": "markdown",
   "metadata": {},
   "source": [
    "**Pip** is the default **p**ackage **i**nstaller for **P**ython. If you did not install Python via the **Anaconda** distribution, then you will not have access to the `conda` command. Instead you will need to use the `pip` command to install packages. There are also some packages (particularly new ones) which are not available on Anaconda Cloud, in which case you will also have to resort to the `pip` command, which installs packages from PyPi, the Python Package Index (https://pypi.org/).\n",
    "\n",
    "The advantage of using `conda` is that it is not Python specific, meaning that any packages that have non-Python dependencies (e.g. `pandas` and `numpy` which are partially built in C) will be dealt with for you. However, the way these packages are installed is slightly different, therefore you should prefer installations using `conda`, only using `pip` as a last resort. The official Anaconda guidelines for using `conda` and `pip` can be found here: https://www.anaconda.com/using-pip-in-a-conda-environment/\n",
    "\n",
    "More info at https://docs.python.org/3/library/venv.html"
   ]
  },
  {
   "cell_type": "markdown",
   "metadata": {},
   "source": [
    "In the same way as for `conda`, you can call `pip install mypackage` to install a package. `pip install -h` will show you the help for this command, including all of the install options available.\n",
    "\n",
    "- `python -m venv londonr-env` creates a virtual environment within the working directory.\n",
    "- `env\\Scripts\\activate.bat` starts the virtual environment.\n",
    "- `pip install -r requirements.txt` installs packages packages from the `requirments.txt`. \n",
    "- `pip freeze > requirements.txt` writes the installed packages to requirements.txt\n",
    "\n",
    "Other useful commands:\n",
    "- `pip list` and `pip freeze` display a list of installed packages.\n",
    "- `pip update` updates a package.\n",
    "- `pip uninstall` removes a package.\n",
    "- `pip -h` will show the help for the `pip` command."
   ]
  },
  {
   "cell_type": "markdown",
   "metadata": {},
   "source": [
    "**Exercise**\n",
    "\n",
    "1. Create two new `conda` environments called `training` and `training-env` using `environment.yml` and `requirements.txt` respectively. Let the two environments contain the `numpy`, `pandas`, `jupyter`, `r-essentials` and `jupyterlab` packages.\n",
    "2. Display the list of available environments.\n",
    "3. Display the help for the `conda list` command.\n",
    "4. Using the instructions outlined in the displayed help, export the list of package names to a file called `package-list.txt`.\n",
    "5. Activate the created conda `training` environment."
   ]
  },
  {
   "cell_type": "markdown",
   "metadata": {},
   "source": [
    "&copy; Mango Solutions"
   ]
  }
 ],
 "metadata": {
  "kernelspec": {
   "display_name": "Python 3",
   "language": "python",
   "name": "python3"
  },
  "language_info": {
   "codemirror_mode": {
    "name": "ipython",
    "version": 3
   },
   "file_extension": ".py",
   "mimetype": "text/x-python",
   "name": "python",
   "nbconvert_exporter": "python",
   "pygments_lexer": "ipython3",
   "version": "3.7.3"
  },
  "toc": {
   "base_numbering": 1,
   "nav_menu": {},
   "number_sections": true,
   "sideBar": true,
   "skip_h1_title": false,
   "title_cell": "Table of Contents",
   "title_sidebar": "Contents",
   "toc_cell": false,
   "toc_position": {},
   "toc_section_display": true,
   "toc_window_display": false
  }
 },
 "nbformat": 4,
 "nbformat_minor": 2
}
