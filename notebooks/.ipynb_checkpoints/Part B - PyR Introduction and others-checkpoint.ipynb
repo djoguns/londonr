{
 "cells": [
  {
   "cell_type": "markdown",
   "metadata": {},
   "source": [
    "[![londonr-banner-logo](../images/londonr-banner.png)](https://www.londonr.org/)"
   ]
  },
  {
   "cell_type": "markdown",
   "metadata": {},
   "source": [
    "<div style = \"text-align: right\"><font size = 3 color = \"#B22222\" face = \"verdana\"><b>- LondonR - Python for R Users - </b></font></div>\n",
    "<div style = \"text-align: right\"><font><i>By 'Dayo Oguntoyinbo</i></font></div>\n",
    "<div style = \"text-align: right\"><font>16th December 2019</font></div>"
   ]
  },
  {
   "cell_type": "markdown",
   "metadata": {},
   "source": [
    "# Part B - PyR Introduction and others"
   ]
  },
  {
   "cell_type": "markdown",
   "metadata": {},
   "source": [
    "**A. PyR - Basic Commom Commands**\n",
    "\n",
    "| Python | Description | R | \n",
    "| --- | --- | --- | \n",
    "| `conda install pkg-name` | Package installation |  `install.packages('pkg-name')` | \n",
    "| `import pkg-name` | Load or Call a Package |  `library('pkg-name)` | \n",
    "| `del('obj')` | Delete object |  `rm('obj)` | "
   ]
  },
  {
   "cell_type": "markdown",
   "metadata": {},
   "source": [
    "**B. PyR - Arithmetic Operators**\n",
    "\n",
    "| Python | Description | R | \n",
    "| --- | --- | --- | \n",
    "| `+` | addition |  `+` | \n",
    "| `-` | subtraction |  `-` | \n",
    "| `/` | division |  `/` | \n",
    "| `*` | multiplication |  `*` | \n",
    "| `**` | exponent |  `^ or **` | \n",
    "| `%` | modulo |  `%%` |"
   ]
  },
  {
   "cell_type": "markdown",
   "metadata": {},
   "source": [
    "**C. PyR - Relational Operators**\n",
    "\n",
    "| Python | Description | R | \n",
    "| --- | --- | --- | \n",
    "| `<` | Less than |  `<` | \n",
    "| `>` | Greater than |  `>` | \n",
    "| `<=` | Less than or equal to |  `<=` | \n",
    "| `>=` | Greater than or equal to |  `>=` | \n",
    "| `==` | Equal to |  `==` | \n",
    "| `!=` | Not equal to |  `!=` |"
   ]
  },
  {
   "cell_type": "markdown",
   "metadata": {},
   "source": [
    "**D. PyR - Logical Operators**\n",
    "\n",
    "| Python | Description | R | \n",
    "| --- | --- | --- | \n",
    "| `AND` | AND |  `&&, &` | \n",
    "| `OR` | OR | `\\|\\|, \\|` | \n",
    "| `NOT` | NOT |  `!` | "
   ]
  },
  {
   "cell_type": "markdown",
   "metadata": {},
   "source": [
    "**E. PyR - Calling Libraries or Packages**\n",
    "\n",
    "| Python | Description | R | \n",
    "| --- | --- | --- | \n",
    "| `import package` | Libraries/Packages |  `library(package)` | \n",
    "| `import package as pk` |  |  | \n",
    "| `from mymodule import mypackage` |  |  | "
   ]
  },
  {
   "cell_type": "markdown",
   "metadata": {},
   "source": [
    "**F. PyR - Writing Functions**\n",
    "\n",
    "| Python | Description | R | \n",
    "| --- | --- | --- | \n",
    "| `def py_funtion(...): ` | Writing functions |  `r_function <- function(...){}` | \n",
    "\n",
    "`Python`\n",
    "```Python\n",
    "def py_function(x, y, z):\n",
    "    \"\"\"\n",
    "    docstring\n",
    "    \"\"\"\n",
    "    a = x + y + z\n",
    "    return a\n",
    "```\n",
    "\n",
    "`R`\n",
    "```R\n",
    "r_function <- function(x, y, z){\n",
    "    a <- x + y + z\n",
    "    return(a)\n",
    "    }\n",
    "```"
   ]
  },
  {
   "cell_type": "markdown",
   "metadata": {},
   "source": [
    "**G. PyR - For loop**\n",
    "\n",
    "| Python | Description | R | \n",
    "| --- | --- | --- | \n",
    "| `for j in range(0, 10): print(j - 2)` | Writing functions | `for (j in 0:10){print(j - 2)}` | \n",
    "\n",
    "`Python`\n",
    "```Python\n",
    "for j in range(0, 10):\n",
    "    print(j - 2)\n",
    "```\n",
    "\n",
    "`R`\n",
    "```R\n",
    "for (j in 0:10){print(j - 2)}\n",
    "```"
   ]
  },
  {
   "cell_type": "code",
   "execution_count": 1,
   "metadata": {},
   "outputs": [
    {
     "name": "stdout",
     "output_type": "stream",
     "text": [
      "-2\n",
      "-1\n",
      "0\n",
      "1\n",
      "2\n",
      "3\n",
      "4\n",
      "5\n",
      "6\n",
      "7\n"
     ]
    }
   ],
   "source": [
    "for j in range(0, 10):\n",
    "    print(j - 2)"
   ]
  },
  {
   "cell_type": "markdown",
   "metadata": {},
   "source": [
    "**H. PyR - If Else**\n",
    "\n",
    "| Python | Description | R | \n",
    "| --- | --- | --- | \n",
    "| `if ...: elif ...: else:` | if else | `if ... {} else if .. {} else {}` | \n",
    "\n",
    "`Python`\n",
    "```Python\n",
    "def py_zero_neg_pos(number):\n",
    "    if number == 0:\n",
    "        print(\"Number is zero.\")\n",
    "    elif number < 0:\n",
    "        print(\"Number is negative.\")\n",
    "    else:\n",
    "        print(\"Number is positive.\")        \n",
    "```\n",
    "\n",
    "`R`\n",
    "```R\n",
    "r_zero_neg_pos <- function(number){\n",
    "    if (number == 0){\n",
    "        print(\"Number is zero.\")\n",
    "    }\n",
    "    else if (number < 0){\n",
    "        print(\"Number is negative.\")\n",
    "    }\n",
    "    else {\n",
    "        print(\"Number is positive.\")\n",
    "    }\n",
    "}\n",
    "```"
   ]
  },
  {
   "cell_type": "code",
   "execution_count": 2,
   "metadata": {},
   "outputs": [],
   "source": [
    "# Tell whether number is zero, negative or positive \n",
    "def py_zero_neg_pos(number):\n",
    "    \"\"\"\n",
    "    Tell whether number is zero, negative or positive \n",
    "    \"\"\"\n",
    "    if number == 0:\n",
    "        print(\"Number is zero.\")\n",
    "    elif number < 0:\n",
    "        print(\"Number is negative.\")\n",
    "    else:\n",
    "        print(\"Number is positive.\")  "
   ]
  },
  {
   "cell_type": "code",
   "execution_count": 3,
   "metadata": {},
   "outputs": [
    {
     "name": "stdout",
     "output_type": "stream",
     "text": [
      "Number is negative.\n"
     ]
    }
   ],
   "source": [
    "py_zero_neg_pos(-123)"
   ]
  },
  {
   "cell_type": "markdown",
   "metadata": {},
   "source": [
    "**I. PyR - Python Collections**\n",
    "\n",
    "| Python | Description | R | \n",
    "| --- | --- | --- | \n",
    "| `[]` | list |  `c()` | \n",
    "| `len(...)` | list len | `length(...)` | \n",
    "| `...[0]` | access list |  `...[1]` | \n",
    "| | access list |  `[[1]]` or `\\$` | \n",
    "\n",
    "\n",
    "1. **List**: Ordered and changeable; and allows duplicate members.\n",
    "2. **Tuple**: Ordered and unchangeable (immutable); and allows duplicate members.\n",
    "3. **Set**: Unordered and unindexed; allows no duplicate members.\n",
    "4. **Dictionary**: Unordered, changeable and indexed; allows no duplicate members and works based on key:value pairs.\n",
    "\n",
    "**Note:**\n",
    "- Indexing in Python starts from `0` unlike `R` that starts from `1`.\n",
    "- Negative indexing implies beginning from the end. `-1` -> last item, `-2` -> second to the last item.\n",
    "- Index range: start:end, where desired end is `-1` the end value."
   ]
  },
  {
   "cell_type": "code",
   "execution_count": 4,
   "metadata": {},
   "outputs": [],
   "source": [
    "# List\n",
    "britain = [\"london\", \"bristol\", \"chippenham\"]"
   ]
  },
  {
   "cell_type": "code",
   "execution_count": 5,
   "metadata": {},
   "outputs": [
    {
     "data": {
      "text/plain": [
       "['london', 'bristol', 'chippenham']"
      ]
     },
     "execution_count": 5,
     "metadata": {},
     "output_type": "execute_result"
    }
   ],
   "source": [
    "britain"
   ]
  },
  {
   "cell_type": "code",
   "execution_count": 6,
   "metadata": {},
   "outputs": [
    {
     "data": {
      "text/plain": [
       "'chippenham'"
      ]
     },
     "execution_count": 6,
     "metadata": {},
     "output_type": "execute_result"
    }
   ],
   "source": [
    "# Last index\n",
    "britain[-1]"
   ]
  },
  {
   "cell_type": "code",
   "execution_count": 7,
   "metadata": {},
   "outputs": [
    {
     "data": {
      "text/plain": [
       "['london', 'bristol']"
      ]
     },
     "execution_count": 7,
     "metadata": {},
     "output_type": "execute_result"
    }
   ],
   "source": [
    "# First to Second index\n",
    "britain[0:2]"
   ]
  },
  {
   "cell_type": "code",
   "execution_count": 8,
   "metadata": {},
   "outputs": [
    {
     "data": {
      "text/plain": [
       "['london', 'bristol', 'chippenham']"
      ]
     },
     "execution_count": 8,
     "metadata": {},
     "output_type": "execute_result"
    }
   ],
   "source": [
    "# First to Last index\n",
    "britain[0:4]"
   ]
  },
  {
   "cell_type": "code",
   "execution_count": 9,
   "metadata": {},
   "outputs": [
    {
     "data": {
      "text/plain": [
       "['london', 'bristol', 'chippenham']"
      ]
     },
     "execution_count": 9,
     "metadata": {},
     "output_type": "execute_result"
    }
   ],
   "source": [
    "# First to Last index\n",
    "britain[0:3]"
   ]
  },
  {
   "cell_type": "code",
   "execution_count": 10,
   "metadata": {},
   "outputs": [
    {
     "data": {
      "text/plain": [
       "['london', 'bristol', 'chippenham']"
      ]
     },
     "execution_count": 10,
     "metadata": {},
     "output_type": "execute_result"
    }
   ],
   "source": [
    "# Index 0 to index 4\n",
    "britain[:3]"
   ]
  },
  {
   "cell_type": "code",
   "execution_count": 11,
   "metadata": {},
   "outputs": [
    {
     "data": {
      "text/plain": [
       "['bristol', 'chippenham']"
      ]
     },
     "execution_count": 11,
     "metadata": {},
     "output_type": "execute_result"
    }
   ],
   "source": [
    "# Index 2 to end\n",
    "britain[1:]"
   ]
  },
  {
   "cell_type": "code",
   "execution_count": 12,
   "metadata": {},
   "outputs": [],
   "source": [
    "# Change index 2\n",
    "britain[1] = \"manchester\""
   ]
  },
  {
   "cell_type": "code",
   "execution_count": 13,
   "metadata": {},
   "outputs": [
    {
     "name": "stdout",
     "output_type": "stream",
     "text": [
      "london\n",
      "manchester\n",
      "chippenham\n"
     ]
    }
   ],
   "source": [
    "# For loop through list\n",
    "for cities in britain:\n",
    "    print(cities)"
   ]
  },
  {
   "cell_type": "code",
   "execution_count": 14,
   "metadata": {},
   "outputs": [
    {
     "name": "stdout",
     "output_type": "stream",
     "text": [
      "Yes, it is in britain list.\n"
     ]
    }
   ],
   "source": [
    "# If item exist in list\n",
    "if \"london\" in britain:\n",
    "    print(\"Yes, it is in britain list.\")"
   ]
  },
  {
   "cell_type": "code",
   "execution_count": 15,
   "metadata": {},
   "outputs": [
    {
     "name": "stdout",
     "output_type": "stream",
     "text": [
      "Not in britain list\n"
     ]
    }
   ],
   "source": [
    "# If item not exist in list\n",
    "if \"barcelona\" not in britain:\n",
    "    print(\"Not in britain list\")"
   ]
  },
  {
   "cell_type": "code",
   "execution_count": 16,
   "metadata": {},
   "outputs": [],
   "source": [
    "# If item not exist in list\n",
    "if \"barcelona\" in britain:\n",
    "    print(\"Not in britain list\")"
   ]
  },
  {
   "cell_type": "code",
   "execution_count": 17,
   "metadata": {},
   "outputs": [
    {
     "data": {
      "text/plain": [
       "3"
      ]
     },
     "execution_count": 17,
     "metadata": {},
     "output_type": "execute_result"
    }
   ],
   "source": [
    "# Length of List\n",
    "len(britain)"
   ]
  },
  {
   "cell_type": "code",
   "execution_count": 18,
   "metadata": {},
   "outputs": [],
   "source": [
    "# Add items to list\n",
    "britain.append(\"glasgow\")"
   ]
  },
  {
   "cell_type": "code",
   "execution_count": 19,
   "metadata": {},
   "outputs": [
    {
     "data": {
      "text/plain": [
       "['london', 'manchester', 'chippenham', 'glasgow']"
      ]
     },
     "execution_count": 19,
     "metadata": {},
     "output_type": "execute_result"
    }
   ],
   "source": [
    "britain"
   ]
  },
  {
   "cell_type": "code",
   "execution_count": 20,
   "metadata": {},
   "outputs": [],
   "source": [
    "# Add list to list\n",
    "new_cities = [\"hull\", \"brighton\"]\n",
    "britain.append(new_cities)"
   ]
  },
  {
   "cell_type": "code",
   "execution_count": 21,
   "metadata": {},
   "outputs": [
    {
     "data": {
      "text/plain": [
       "['london', 'manchester', 'chippenham', 'glasgow', ['hull', 'brighton']]"
      ]
     },
     "execution_count": 21,
     "metadata": {},
     "output_type": "execute_result"
    }
   ],
   "source": [
    "britain"
   ]
  },
  {
   "cell_type": "markdown",
   "metadata": {},
   "source": [
    "```python\n",
    "# Insert item\n",
    "britain.insert(\"cardiff\")\n",
    "\n",
    "---------------------------------------------------------------------------\n",
    "TypeError                                 Traceback (most recent call last)\n",
    "<ipython-input-39-ee60bf219596> in <module>\n",
    "      1 # Insert item\n",
    "----> 2 britain.insert(\"cardiff\")\n",
    "\n",
    "TypeError: insert() takes exactly 2 arguments (1 given)\n",
    "```"
   ]
  },
  {
   "cell_type": "code",
   "execution_count": 22,
   "metadata": {},
   "outputs": [],
   "source": [
    "# Insert item\n",
    "britain.insert(3, \"cardiff\")"
   ]
  },
  {
   "cell_type": "code",
   "execution_count": 23,
   "metadata": {},
   "outputs": [
    {
     "data": {
      "text/plain": [
       "['london',\n",
       " 'manchester',\n",
       " 'chippenham',\n",
       " 'cardiff',\n",
       " 'glasgow',\n",
       " ['hull', 'brighton']]"
      ]
     },
     "execution_count": 23,
     "metadata": {},
     "output_type": "execute_result"
    }
   ],
   "source": [
    "britain"
   ]
  },
  {
   "cell_type": "code",
   "execution_count": 24,
   "metadata": {},
   "outputs": [],
   "source": [
    "# Remove list item\n",
    "britain.remove(new_cities)"
   ]
  },
  {
   "cell_type": "code",
   "execution_count": 25,
   "metadata": {},
   "outputs": [
    {
     "data": {
      "text/plain": [
       "['london', 'manchester', 'chippenham', 'cardiff', 'glasgow']"
      ]
     },
     "execution_count": 25,
     "metadata": {},
     "output_type": "execute_result"
    }
   ],
   "source": [
    "britain"
   ]
  },
  {
   "cell_type": "code",
   "execution_count": 26,
   "metadata": {},
   "outputs": [],
   "source": [
    "# Tuple\n",
    "france = (\"paris\", \"lille\", \"bordeaux\", \"toulouse\", \"marseille\")"
   ]
  },
  {
   "cell_type": "code",
   "execution_count": 27,
   "metadata": {},
   "outputs": [
    {
     "data": {
      "text/plain": [
       "'marseille'"
      ]
     },
     "execution_count": 27,
     "metadata": {},
     "output_type": "execute_result"
    }
   ],
   "source": [
    "france[-1]"
   ]
  },
  {
   "cell_type": "code",
   "execution_count": 28,
   "metadata": {},
   "outputs": [
    {
     "data": {
      "text/plain": [
       "('bordeaux', 'toulouse')"
      ]
     },
     "execution_count": 28,
     "metadata": {},
     "output_type": "execute_result"
    }
   ],
   "source": [
    "france[2:4]"
   ]
  },
  {
   "cell_type": "code",
   "execution_count": 29,
   "metadata": {},
   "outputs": [
    {
     "data": {
      "text/plain": [
       "('paris', 'lille', 'bordeaux', 'toulouse', 'orlean')"
      ]
     },
     "execution_count": 29,
     "metadata": {},
     "output_type": "execute_result"
    }
   ],
   "source": [
    "# Immutable tuple, still mutable\n",
    "france_list = list(france)\n",
    "france_list[4] = \"orlean\"\n",
    "france = tuple(france_list)\n",
    "france"
   ]
  },
  {
   "cell_type": "code",
   "execution_count": 30,
   "metadata": {},
   "outputs": [
    {
     "name": "stdout",
     "output_type": "stream",
     "text": [
      "paris\n",
      "lille\n",
      "bordeaux\n",
      "toulouse\n",
      "orlean\n"
     ]
    }
   ],
   "source": [
    "# For loop through tuple\n",
    "for cities in france:\n",
    "    print(cities)"
   ]
  },
  {
   "cell_type": "code",
   "execution_count": 31,
   "metadata": {},
   "outputs": [],
   "source": [
    "# Tuple Unpackingh\n",
    "a, b = (23, -3)"
   ]
  },
  {
   "cell_type": "code",
   "execution_count": 32,
   "metadata": {},
   "outputs": [
    {
     "data": {
      "text/plain": [
       "23"
      ]
     },
     "execution_count": 32,
     "metadata": {},
     "output_type": "execute_result"
    }
   ],
   "source": [
    "a"
   ]
  },
  {
   "cell_type": "code",
   "execution_count": 33,
   "metadata": {},
   "outputs": [
    {
     "data": {
      "text/plain": [
       "-3"
      ]
     },
     "execution_count": 33,
     "metadata": {},
     "output_type": "execute_result"
    }
   ],
   "source": [
    "b"
   ]
  },
  {
   "cell_type": "code",
   "execution_count": 34,
   "metadata": {},
   "outputs": [],
   "source": [
    "# Set example\n",
    "spain = {\"madrid\", \"sevilla\", \"mallorca\", \"barcelona\"}"
   ]
  },
  {
   "cell_type": "code",
   "execution_count": 35,
   "metadata": {},
   "outputs": [],
   "source": [
    "# Dictionary example\n",
    "# key: value\n",
    "europe = {\n",
    "    \"britain\": \"london\",\n",
    "    \"france\": \"paris\",\n",
    "    \"germany\": \"berlin\",\n",
    "    \"finland\": \"helsinki\"\n",
    "}"
   ]
  },
  {
   "cell_type": "code",
   "execution_count": 36,
   "metadata": {},
   "outputs": [
    {
     "data": {
      "text/plain": [
       "'london'"
      ]
     },
     "execution_count": 36,
     "metadata": {},
     "output_type": "execute_result"
    }
   ],
   "source": [
    "# Accessing a dictionary\n",
    "europe[\"britain\"]"
   ]
  },
  {
   "cell_type": "code",
   "execution_count": 37,
   "metadata": {},
   "outputs": [
    {
     "data": {
      "text/plain": [
       "'london'"
      ]
     },
     "execution_count": 37,
     "metadata": {},
     "output_type": "execute_result"
    }
   ],
   "source": [
    "# Accessing a dictionary\n",
    "europe.get(\"britain\")"
   ]
  },
  {
   "cell_type": "code",
   "execution_count": 38,
   "metadata": {},
   "outputs": [],
   "source": [
    "# Change key-value\n",
    "europe[\"britain\"] = \"greater london\""
   ]
  },
  {
   "cell_type": "code",
   "execution_count": 39,
   "metadata": {},
   "outputs": [
    {
     "data": {
      "text/plain": [
       "{'britain': 'greater london',\n",
       " 'france': 'paris',\n",
       " 'germany': 'berlin',\n",
       " 'finland': 'helsinki'}"
      ]
     },
     "execution_count": 39,
     "metadata": {},
     "output_type": "execute_result"
    }
   ],
   "source": [
    "europe"
   ]
  },
  {
   "cell_type": "code",
   "execution_count": 40,
   "metadata": {},
   "outputs": [
    {
     "name": "stdout",
     "output_type": "stream",
     "text": [
      "britain\n",
      "france\n",
      "germany\n",
      "finland\n"
     ]
    }
   ],
   "source": [
    "# Loop over dictionary\n",
    "# Prints keys\n",
    "for countries in europe:\n",
    "    print(countries)"
   ]
  },
  {
   "cell_type": "code",
   "execution_count": 41,
   "metadata": {},
   "outputs": [
    {
     "name": "stdout",
     "output_type": "stream",
     "text": [
      "greater london\n",
      "paris\n",
      "berlin\n",
      "helsinki\n"
     ]
    }
   ],
   "source": [
    "# Loop over dictionary\n",
    "# Prints values\n",
    "for countries in europe:\n",
    "    print(europe[countries])"
   ]
  },
  {
   "cell_type": "code",
   "execution_count": 42,
   "metadata": {},
   "outputs": [
    {
     "name": "stdout",
     "output_type": "stream",
     "text": [
      "greater london\n",
      "paris\n",
      "berlin\n",
      "helsinki\n"
     ]
    }
   ],
   "source": [
    "# Loop over dictionary\n",
    "# Prints values\n",
    "for countries in europe.values():\n",
    "    print(countries)"
   ]
  },
  {
   "cell_type": "code",
   "execution_count": 43,
   "metadata": {},
   "outputs": [
    {
     "name": "stdout",
     "output_type": "stream",
     "text": [
      "britain: greater london\n",
      "france: paris\n",
      "germany: berlin\n",
      "finland: helsinki\n"
     ]
    }
   ],
   "source": [
    "# Loop over dictionary\n",
    "# Prints keys-values\n",
    "for countries, capitals in europe.items():\n",
    "    print(f'{countries}: {capitals}')"
   ]
  },
  {
   "cell_type": "code",
   "execution_count": 44,
   "metadata": {},
   "outputs": [],
   "source": [
    "# Nested Dictionary\n",
    "countries = {\n",
    "    \"africa\": {\n",
    "        \"country\": \"nigeria\",\n",
    "        \"capital\": \"abuja\",\n",
    "        \"currency\" : \"naira\"\n",
    "    }, \n",
    "    \"asia\" : {\n",
    "        \"country\": \"india\",\n",
    "        \"capital\": \"delhi\",\n",
    "        \"currency\" : \"rupee\"  \n",
    "    },\n",
    "    \"europe\": {\n",
    "        \"country\": \"uk\",\n",
    "        \"capital\": \"london\",\n",
    "        \"currency\" : \"pounds\"\n",
    "    },\n",
    "    \"oceania\": {\n",
    "        \"country\": \"new zealand\",\n",
    "        \"capital\": \"wellington\",\n",
    "        \"currency\" : \"new zealand dollar\"\n",
    "    }\n",
    "}"
   ]
  },
  {
   "cell_type": "code",
   "execution_count": 45,
   "metadata": {},
   "outputs": [
    {
     "data": {
      "text/plain": [
       "{'africa': {'country': 'nigeria', 'capital': 'abuja', 'currency': 'naira'},\n",
       " 'asia': {'country': 'india', 'capital': 'delhi', 'currency': 'rupee'},\n",
       " 'europe': {'country': 'uk', 'capital': 'london', 'currency': 'pounds'},\n",
       " 'oceania': {'country': 'new zealand',\n",
       "  'capital': 'wellington',\n",
       "  'currency': 'new zealand dollar'}}"
      ]
     },
     "execution_count": 45,
     "metadata": {},
     "output_type": "execute_result"
    }
   ],
   "source": [
    "countries"
   ]
  },
  {
   "cell_type": "code",
   "execution_count": 46,
   "metadata": {},
   "outputs": [
    {
     "data": {
      "text/plain": [
       "'new zealand'"
      ]
     },
     "execution_count": 46,
     "metadata": {},
     "output_type": "execute_result"
    }
   ],
   "source": [
    "countries['oceania']['country']"
   ]
  },
  {
   "cell_type": "code",
   "execution_count": 47,
   "metadata": {},
   "outputs": [],
   "source": [
    "# Individual nested Dictionary\n",
    "africa = {\n",
    "    \"country\": \"ghana\",\n",
    "    \"capital\": \"accra\",\n",
    "    \"currency\" : \"ghana-cedi\"\n",
    "    }\n",
    "\n",
    "asia = {\n",
    "    \"country\": \"china\",\n",
    "    \"capital\": \"beijing\",\n",
    "    \"currency\" : \"yen\"  \n",
    "    }\n",
    "\n",
    "europe = {\n",
    "    \"country\": \"finland\",\n",
    "    \"capital\": \"helsinki\",\n",
    "    \"currency\" : \"euro\"\n",
    "}\n",
    "\n",
    "oceania = {\n",
    "    \"country\": \"papua new guinea\",\n",
    "        \"capital\": \"port moresby\",\n",
    "        \"currency\" : \"papua new guinean kina\"\n",
    "}\n",
    "\n",
    "# Combine dictionaries to one dictionary\n",
    "continent_countries = {\n",
    "    \"africa\": africa,\n",
    "    \"asia\": asia,\n",
    "    \"europe\": europe,\n",
    "    \"oceania\": oceania\n",
    "}"
   ]
  },
  {
   "cell_type": "code",
   "execution_count": 48,
   "metadata": {},
   "outputs": [
    {
     "data": {
      "text/plain": [
       "{'country': 'papua new guinea',\n",
       " 'capital': 'port moresby',\n",
       " 'currency': 'papua new guinean kina'}"
      ]
     },
     "execution_count": 48,
     "metadata": {},
     "output_type": "execute_result"
    }
   ],
   "source": [
    "continent_countries[\"oceania\"]"
   ]
  },
  {
   "cell_type": "code",
   "execution_count": 49,
   "metadata": {},
   "outputs": [
    {
     "data": {
      "text/plain": [
       "{'africa': {'country': 'ghana', 'capital': 'accra', 'currency': 'ghana-cedi'},\n",
       " 'asia': {'country': 'china', 'capital': 'beijing', 'currency': 'yen'},\n",
       " 'europe': {'country': 'finland', 'capital': 'helsinki', 'currency': 'euro'},\n",
       " 'oceania': {'country': 'papua new guinea',\n",
       "  'capital': 'port moresby',\n",
       "  'currency': 'papua new guinean kina'}}"
      ]
     },
     "execution_count": 49,
     "metadata": {},
     "output_type": "execute_result"
    }
   ],
   "source": [
    "# Python Dict to JSON\n",
    "import json\n",
    "\n",
    "# Converts to JSON:\n",
    "countries_json = json.dumps(continent_countries)\n",
    "continent_countries"
   ]
  },
  {
   "cell_type": "code",
   "execution_count": 50,
   "metadata": {},
   "outputs": [
    {
     "name": "stdout",
     "output_type": "stream",
     "text": [
      "{\"country\": \"britain\", \"capital\": \"london\"}\n",
      "<class 'str'>\n"
     ]
    }
   ],
   "source": [
    "# Python Object and JSON strings\n",
    "\n",
    "# Dictionary -> json object\n",
    "json_dict = json.dumps({\"country\": \"britain\", \"capital\": \"london\"})\n",
    "print(json_dict)\n",
    "print(type(json_dict))"
   ]
  },
  {
   "cell_type": "code",
   "execution_count": 51,
   "metadata": {},
   "outputs": [
    {
     "name": "stdout",
     "output_type": "stream",
     "text": [
      "[\"london\", \"bristol\", \"chippenham\"]\n",
      "<class 'str'>\n"
     ]
    }
   ],
   "source": [
    "# List -> json array\n",
    "json_list = json.dumps([\"london\", \"bristol\", \"chippenham\"])\n",
    "print(json_list)\n",
    "print(type(json_list))"
   ]
  },
  {
   "cell_type": "code",
   "execution_count": 52,
   "metadata": {},
   "outputs": [
    {
     "name": "stdout",
     "output_type": "stream",
     "text": [
      "[\"london\", \"bristol\"]\n"
     ]
    }
   ],
   "source": [
    "# Tuple -> json array\n",
    "print(json.dumps((\"london\", \"bristol\")))"
   ]
  },
  {
   "cell_type": "code",
   "execution_count": 53,
   "metadata": {},
   "outputs": [
    {
     "name": "stdout",
     "output_type": "stream",
     "text": [
      "\"londonr\"\n"
     ]
    }
   ],
   "source": [
    "# str -> json string\n",
    "print(json.dumps(\"londonr\"))"
   ]
  },
  {
   "cell_type": "markdown",
   "metadata": {},
   "source": [
    "[`json_normalize`](https://pandas.pydata.org/pandas-docs/stable/user_guide/io.html)"
   ]
  },
  {
   "cell_type": "code",
   "execution_count": 54,
   "metadata": {},
   "outputs": [],
   "source": [
    "# Flattening JSON object in Python\n",
    "from pandas.io.json import json_normalize"
   ]
  },
  {
   "cell_type": "code",
   "execution_count": 55,
   "metadata": {},
   "outputs": [
    {
     "data": {
      "text/html": [
       "<div>\n",
       "<style scoped>\n",
       "    .dataframe tbody tr th:only-of-type {\n",
       "        vertical-align: middle;\n",
       "    }\n",
       "\n",
       "    .dataframe tbody tr th {\n",
       "        vertical-align: top;\n",
       "    }\n",
       "\n",
       "    .dataframe thead th {\n",
       "        text-align: right;\n",
       "    }\n",
       "</style>\n",
       "<table border=\"1\" class=\"dataframe\">\n",
       "  <thead>\n",
       "    <tr style=\"text-align: right;\">\n",
       "      <th></th>\n",
       "      <th>africa.country</th>\n",
       "      <th>africa.capital</th>\n",
       "      <th>africa.currency</th>\n",
       "      <th>asia.country</th>\n",
       "      <th>asia.capital</th>\n",
       "      <th>asia.currency</th>\n",
       "      <th>europe.country</th>\n",
       "      <th>europe.capital</th>\n",
       "      <th>europe.currency</th>\n",
       "      <th>oceania.country</th>\n",
       "      <th>oceania.capital</th>\n",
       "      <th>oceania.currency</th>\n",
       "    </tr>\n",
       "  </thead>\n",
       "  <tbody>\n",
       "    <tr>\n",
       "      <th>0</th>\n",
       "      <td>nigeria</td>\n",
       "      <td>abuja</td>\n",
       "      <td>naira</td>\n",
       "      <td>india</td>\n",
       "      <td>delhi</td>\n",
       "      <td>rupee</td>\n",
       "      <td>uk</td>\n",
       "      <td>london</td>\n",
       "      <td>pounds</td>\n",
       "      <td>new zealand</td>\n",
       "      <td>wellington</td>\n",
       "      <td>new zealand dollar</td>\n",
       "    </tr>\n",
       "  </tbody>\n",
       "</table>\n",
       "</div>"
      ],
      "text/plain": [
       "  africa.country africa.capital africa.currency asia.country asia.capital  \\\n",
       "0        nigeria          abuja           naira        india        delhi   \n",
       "\n",
       "  asia.currency europe.country europe.capital europe.currency oceania.country  \\\n",
       "0         rupee             uk         london          pounds     new zealand   \n",
       "\n",
       "  oceania.capital    oceania.currency  \n",
       "0      wellington  new zealand dollar  "
      ]
     },
     "execution_count": 55,
     "metadata": {},
     "output_type": "execute_result"
    }
   ],
   "source": [
    "json_normalize(countries)"
   ]
  },
  {
   "cell_type": "code",
   "execution_count": 56,
   "metadata": {},
   "outputs": [],
   "source": [
    "results = [\n",
    "    {\n",
    "        \"altitude\": 35,\n",
    "        \"location\": {\n",
    "            \"lat\": 42.97,\n",
    "            \"lng\": -81.25\n",
    "        },\n",
    "        \"location_id\": 2056,\n",
    "        \"status\": \"OK\"\n",
    "    },\n",
    "    {\n",
    "        \"altitude\": 19,\n",
    "        \"location\": {\n",
    "            \"lat\": 42.11,\n",
    "            \"lng\": -81.91\n",
    "        },\n",
    "        \"location_id\": 1979,\n",
    "        \"status\": \"NOK\"\n",
    "    },\n",
    "    {\n",
    "        \"altitude\": 52,\n",
    "        \"location\": {\n",
    "            \"lat\": 43.01,\n",
    "            \"lng\": -81.00\n",
    "        },\n",
    "        \"location_id\": 2030,\n",
    "        \"status\": \"OK\"\n",
    "    },\n",
    "    {\n",
    "        \"altitude\" : 89,\n",
    "        \"location\" : {\n",
    "            \"lat\" : 41.99,\n",
    "            \"lng\" : -80.14\n",
    "        },\n",
    "        \"location_id\": 2009,\n",
    "        \"status\": \"OK\"\n",
    "    },\n",
    "    {\n",
    "        \"altitude\": 20,\n",
    "        \"location\": {\n",
    "            \"lat\": 40.19,\n",
    "            \"lng\": -81.00\n",
    "        },\n",
    "        \"location_id\": 1999,\n",
    "        \"status\": \"NOK\"\n",
    "    }\n",
    "]"
   ]
  },
  {
   "cell_type": "code",
   "execution_count": 57,
   "metadata": {},
   "outputs": [
    {
     "data": {
      "text/html": [
       "<div>\n",
       "<style scoped>\n",
       "    .dataframe tbody tr th:only-of-type {\n",
       "        vertical-align: middle;\n",
       "    }\n",
       "\n",
       "    .dataframe tbody tr th {\n",
       "        vertical-align: top;\n",
       "    }\n",
       "\n",
       "    .dataframe thead th {\n",
       "        text-align: right;\n",
       "    }\n",
       "</style>\n",
       "<table border=\"1\" class=\"dataframe\">\n",
       "  <thead>\n",
       "    <tr style=\"text-align: right;\">\n",
       "      <th></th>\n",
       "      <th>altitude</th>\n",
       "      <th>location_id</th>\n",
       "      <th>status</th>\n",
       "      <th>location.lat</th>\n",
       "      <th>location.lng</th>\n",
       "    </tr>\n",
       "  </thead>\n",
       "  <tbody>\n",
       "    <tr>\n",
       "      <th>0</th>\n",
       "      <td>35</td>\n",
       "      <td>2056</td>\n",
       "      <td>OK</td>\n",
       "      <td>42.97</td>\n",
       "      <td>-81.25</td>\n",
       "    </tr>\n",
       "    <tr>\n",
       "      <th>1</th>\n",
       "      <td>19</td>\n",
       "      <td>1979</td>\n",
       "      <td>NOK</td>\n",
       "      <td>42.11</td>\n",
       "      <td>-81.91</td>\n",
       "    </tr>\n",
       "    <tr>\n",
       "      <th>2</th>\n",
       "      <td>52</td>\n",
       "      <td>2030</td>\n",
       "      <td>OK</td>\n",
       "      <td>43.01</td>\n",
       "      <td>-81.00</td>\n",
       "    </tr>\n",
       "    <tr>\n",
       "      <th>3</th>\n",
       "      <td>89</td>\n",
       "      <td>2009</td>\n",
       "      <td>OK</td>\n",
       "      <td>41.99</td>\n",
       "      <td>-80.14</td>\n",
       "    </tr>\n",
       "    <tr>\n",
       "      <th>4</th>\n",
       "      <td>20</td>\n",
       "      <td>1999</td>\n",
       "      <td>NOK</td>\n",
       "      <td>40.19</td>\n",
       "      <td>-81.00</td>\n",
       "    </tr>\n",
       "  </tbody>\n",
       "</table>\n",
       "</div>"
      ],
      "text/plain": [
       "   altitude  location_id status  location.lat  location.lng\n",
       "0        35         2056     OK         42.97        -81.25\n",
       "1        19         1979    NOK         42.11        -81.91\n",
       "2        52         2030     OK         43.01        -81.00\n",
       "3        89         2009     OK         41.99        -80.14\n",
       "4        20         1999    NOK         40.19        -81.00"
      ]
     },
     "execution_count": 57,
     "metadata": {},
     "output_type": "execute_result"
    }
   ],
   "source": [
    "json_normalize(results)"
   ]
  },
  {
   "cell_type": "code",
   "execution_count": 58,
   "metadata": {},
   "outputs": [],
   "source": [
    "data = {\n",
    "    \"results\": [\n",
    "        {\n",
    "            \"altitude\": 35,\n",
    "            \"location\": {\n",
    "                \"lat\": 42.97,\n",
    "                \"lng\": -81.25\n",
    "            },\n",
    "            \"location_id\": 2056,\n",
    "        },\n",
    "        {\n",
    "            \"altitude\": 19,\n",
    "            \"location\": {\n",
    "                \"lat\": 42.11,\n",
    "                \"lng\": -81.91\n",
    "            },\n",
    "            \"location_id\": 1979,\n",
    "        },\n",
    "        {\n",
    "            \"altitude\": 52,\n",
    "            \"location\": {\n",
    "                \"lat\": 43.01,\n",
    "                \"lng\": -81.00\n",
    "            },\n",
    "            \"location_id\": 2030,\n",
    "        },\n",
    "        {\n",
    "            \"altitude\" : 89,\n",
    "            \"location\" : {\n",
    "                \"lat\" : 41.99,\n",
    "                \"lng\" : -80.14\n",
    "            },\n",
    "            \"location_id\": 2009,\n",
    "        },\n",
    "        {\n",
    "            \"altitude\": 20,\n",
    "            \"location\": {\n",
    "                \"lat\": 40.19,\n",
    "                \"lng\": -81.00\n",
    "            },\n",
    "            \"location_id\": 1999,\n",
    "        }\n",
    "    ],\n",
    "    \"status\" : \"OK\"\n",
    "}"
   ]
  },
  {
   "cell_type": "code",
   "execution_count": 59,
   "metadata": {},
   "outputs": [
    {
     "data": {
      "text/plain": [
       "[{'altitude': 35,\n",
       "  'location': {'lat': 42.97, 'lng': -81.25},\n",
       "  'location_id': 2056},\n",
       " {'altitude': 19,\n",
       "  'location': {'lat': 42.11, 'lng': -81.91},\n",
       "  'location_id': 1979},\n",
       " {'altitude': 52,\n",
       "  'location': {'lat': 43.01, 'lng': -81.0},\n",
       "  'location_id': 2030},\n",
       " {'altitude': 89,\n",
       "  'location': {'lat': 41.99, 'lng': -80.14},\n",
       "  'location_id': 2009},\n",
       " {'altitude': 20,\n",
       "  'location': {'lat': 40.19, 'lng': -81.0},\n",
       "  'location_id': 1999}]"
      ]
     },
     "execution_count": 59,
     "metadata": {},
     "output_type": "execute_result"
    }
   ],
   "source": [
    "data[\"results\"]"
   ]
  },
  {
   "cell_type": "code",
   "execution_count": 60,
   "metadata": {},
   "outputs": [
    {
     "data": {
      "text/html": [
       "<div>\n",
       "<style scoped>\n",
       "    .dataframe tbody tr th:only-of-type {\n",
       "        vertical-align: middle;\n",
       "    }\n",
       "\n",
       "    .dataframe tbody tr th {\n",
       "        vertical-align: top;\n",
       "    }\n",
       "\n",
       "    .dataframe thead th {\n",
       "        text-align: right;\n",
       "    }\n",
       "</style>\n",
       "<table border=\"1\" class=\"dataframe\">\n",
       "  <thead>\n",
       "    <tr style=\"text-align: right;\">\n",
       "      <th></th>\n",
       "      <th>results</th>\n",
       "      <th>status</th>\n",
       "    </tr>\n",
       "  </thead>\n",
       "  <tbody>\n",
       "    <tr>\n",
       "      <th>0</th>\n",
       "      <td>[{'altitude': 35, 'location': {'lat': 42.97, '...</td>\n",
       "      <td>OK</td>\n",
       "    </tr>\n",
       "  </tbody>\n",
       "</table>\n",
       "</div>"
      ],
      "text/plain": [
       "                                             results status\n",
       "0  [{'altitude': 35, 'location': {'lat': 42.97, '...     OK"
      ]
     },
     "execution_count": 60,
     "metadata": {},
     "output_type": "execute_result"
    }
   ],
   "source": [
    "json_normalize(data)"
   ]
  },
  {
   "cell_type": "markdown",
   "metadata": {},
   "source": [
    "**J. PyR - Creating DataFrame**\n",
    "\n",
    "| Python | Description | R | \n",
    "| --- | --- | --- | \n",
    "| `pd.DataFrame` | Creating Data Frame |  `data.frame` | \n",
    "\n",
    "`Python`\n",
    "```Python\n",
    "import numpy as np\n",
    "import pandas as pd\n",
    "\n",
    "data = {\"StudentID\": [\"ST12\", \"AB34\", \"YW98\", \"ST34\"],\n",
    "        \"Scores\": [45, 98, 67, 89], \n",
    "        \"Sport\": [\"Football\", \"Tennis\", \"Basketball\", \"Football\"]}\n",
    "df = pd.DataFrame(data)\n",
    "```\n",
    "`R`\n",
    "```R\n",
    "StudentID <- c(\"ST12\", \"AB34\", \"YW98\", \"ST34\")\n",
    "Scores <- c(45, 98, 67, 89)\n",
    "Sport <- c(\"Football\", \"Tennis\", \"Basketball\", \"Football\")\n",
    "df <- data.frame(StudentID, Scores, Sport)\n",
    "```"
   ]
  },
  {
   "cell_type": "code",
   "execution_count": 68,
   "metadata": {},
   "outputs": [],
   "source": [
    "import numpy as np\n",
    "import pandas as pd\n",
    "\n",
    "data = {\"StudentID\": [\"ST12\", \"AB34\", \"YW98\", \"ST34\"],\n",
    "        \"Scores\": [45, 98, 67, 89], \n",
    "        \"Sport\": [\"Football\", \"Tennis\", \"Basketball\", \"Football\"]}\n",
    "df = pd.DataFrame(data)"
   ]
  },
  {
   "cell_type": "code",
   "execution_count": 69,
   "metadata": {},
   "outputs": [
    {
     "data": {
      "text/html": [
       "<div>\n",
       "<style scoped>\n",
       "    .dataframe tbody tr th:only-of-type {\n",
       "        vertical-align: middle;\n",
       "    }\n",
       "\n",
       "    .dataframe tbody tr th {\n",
       "        vertical-align: top;\n",
       "    }\n",
       "\n",
       "    .dataframe thead th {\n",
       "        text-align: right;\n",
       "    }\n",
       "</style>\n",
       "<table border=\"1\" class=\"dataframe\">\n",
       "  <thead>\n",
       "    <tr style=\"text-align: right;\">\n",
       "      <th></th>\n",
       "      <th>StudentID</th>\n",
       "      <th>Scores</th>\n",
       "      <th>Sport</th>\n",
       "    </tr>\n",
       "  </thead>\n",
       "  <tbody>\n",
       "    <tr>\n",
       "      <th>0</th>\n",
       "      <td>ST12</td>\n",
       "      <td>45</td>\n",
       "      <td>Football</td>\n",
       "    </tr>\n",
       "    <tr>\n",
       "      <th>1</th>\n",
       "      <td>AB34</td>\n",
       "      <td>98</td>\n",
       "      <td>Tennis</td>\n",
       "    </tr>\n",
       "    <tr>\n",
       "      <th>2</th>\n",
       "      <td>YW98</td>\n",
       "      <td>67</td>\n",
       "      <td>Basketball</td>\n",
       "    </tr>\n",
       "    <tr>\n",
       "      <th>3</th>\n",
       "      <td>ST34</td>\n",
       "      <td>89</td>\n",
       "      <td>Football</td>\n",
       "    </tr>\n",
       "  </tbody>\n",
       "</table>\n",
       "</div>"
      ],
      "text/plain": [
       "  StudentID  Scores       Sport\n",
       "0      ST12      45    Football\n",
       "1      AB34      98      Tennis\n",
       "2      YW98      67  Basketball\n",
       "3      ST34      89    Football"
      ]
     },
     "execution_count": 69,
     "metadata": {},
     "output_type": "execute_result"
    }
   ],
   "source": [
    "df = pd.DataFrame(data)\n",
    "df"
   ]
  },
  {
   "cell_type": "markdown",
   "metadata": {},
   "source": [
    "**K. PyR - Data Inspection**\n",
    "\n",
    "| Python | Description | R | \n",
    "| --- | --- | --- | \n",
    "| `df.head()` | Defauly View - top 5 rows |  `head(df)` | \n",
    "| `df.head(10)` | View top 10 rows |  `head(df, 6)` | \n",
    "| `df.tail()` | Default view - top 5 rows |  `tail(df)` | \n",
    "| `df.tail(10)` | View top 10 rows |  `tail(df, 6)` | \n",
    "| `df.columns` | Column names |  `colnames(df)` | \n",
    "| `df.shape` | Dataframe shape - dimension |  `dim(df)` | \n",
    "| `len(df)` | Length of Dataframe |  `length(df)` | \n",
    "| `df.info()` | Shows the description of data |  `str(df)` | \n",
    "| `df.describe()` | Provides quick summary of data |  `summary(df)` | "
   ]
  },
  {
   "cell_type": "code",
   "execution_count": 70,
   "metadata": {},
   "outputs": [
    {
     "data": {
      "text/plain": [
       "0    ST12\n",
       "1    AB34\n",
       "2    YW98\n",
       "3    ST34\n",
       "Name: StudentID, dtype: object"
      ]
     },
     "execution_count": 70,
     "metadata": {},
     "output_type": "execute_result"
    }
   ],
   "source": [
    "df[\"StudentID\"]"
   ]
  },
  {
   "cell_type": "markdown",
   "metadata": {},
   "source": [
    "**L. PyR - Some Operations**\n",
    "\n",
    "| Python | Description | R | \n",
    "| --- | --- | --- | \n",
    "| `df[\"StudentID\"]` or `df.StudentID` (without space column) | Select based on column |  `df$StudentID` or `df[, \"StudentID\"]` | \n",
    "| `df[[\"StudentID\", \"Scores\"]]` | Select based on multiple columns |  `df[, c(\"StudentID\", \"Scores\")]` | \n",
    "| `df.loc[:, \"StudentID\":\"Scores\"]` |  |  `dplyr` allows subset of columns -> `select(df, StudentID, Scores)` | \n",
    "| `df.iloc[:, 0:2]` | Select based on column index | `df[1:2]` | \n",
    "| `df.iloc[0:2]` | Select based on row index | `df[1:2,]` | \n",
    "| `df[0:2, 0:3]` |  |  `df[1:2, 1:3]` | \n",
    "| `df.sort_values(by='Scores')` | Sort based on column |  `df[order(df$Scores),]` | "
   ]
  },
  {
   "cell_type": "code",
   "execution_count": 98,
   "metadata": {},
   "outputs": [
    {
     "data": {
      "text/plain": [
       "0    ST12\n",
       "1    AB34\n",
       "2    YW98\n",
       "3    ST34\n",
       "Name: StudentID, dtype: object"
      ]
     },
     "execution_count": 98,
     "metadata": {},
     "output_type": "execute_result"
    }
   ],
   "source": [
    "df[\"StudentID\"]"
   ]
  },
  {
   "cell_type": "code",
   "execution_count": 94,
   "metadata": {},
   "outputs": [
    {
     "data": {
      "text/html": [
       "<div>\n",
       "<style scoped>\n",
       "    .dataframe tbody tr th:only-of-type {\n",
       "        vertical-align: middle;\n",
       "    }\n",
       "\n",
       "    .dataframe tbody tr th {\n",
       "        vertical-align: top;\n",
       "    }\n",
       "\n",
       "    .dataframe thead th {\n",
       "        text-align: right;\n",
       "    }\n",
       "</style>\n",
       "<table border=\"1\" class=\"dataframe\">\n",
       "  <thead>\n",
       "    <tr style=\"text-align: right;\">\n",
       "      <th></th>\n",
       "      <th>StudentID</th>\n",
       "      <th>Scores</th>\n",
       "    </tr>\n",
       "  </thead>\n",
       "  <tbody>\n",
       "    <tr>\n",
       "      <th>0</th>\n",
       "      <td>ST12</td>\n",
       "      <td>45</td>\n",
       "    </tr>\n",
       "    <tr>\n",
       "      <th>1</th>\n",
       "      <td>AB34</td>\n",
       "      <td>98</td>\n",
       "    </tr>\n",
       "    <tr>\n",
       "      <th>2</th>\n",
       "      <td>YW98</td>\n",
       "      <td>67</td>\n",
       "    </tr>\n",
       "    <tr>\n",
       "      <th>3</th>\n",
       "      <td>ST34</td>\n",
       "      <td>89</td>\n",
       "    </tr>\n",
       "  </tbody>\n",
       "</table>\n",
       "</div>"
      ],
      "text/plain": [
       "  StudentID  Scores\n",
       "0      ST12      45\n",
       "1      AB34      98\n",
       "2      YW98      67\n",
       "3      ST34      89"
      ]
     },
     "execution_count": 94,
     "metadata": {},
     "output_type": "execute_result"
    }
   ],
   "source": [
    "df[[\"StudentID\", \"Scores\"]]"
   ]
  },
  {
   "cell_type": "code",
   "execution_count": 99,
   "metadata": {},
   "outputs": [
    {
     "data": {
      "text/html": [
       "<div>\n",
       "<style scoped>\n",
       "    .dataframe tbody tr th:only-of-type {\n",
       "        vertical-align: middle;\n",
       "    }\n",
       "\n",
       "    .dataframe tbody tr th {\n",
       "        vertical-align: top;\n",
       "    }\n",
       "\n",
       "    .dataframe thead th {\n",
       "        text-align: right;\n",
       "    }\n",
       "</style>\n",
       "<table border=\"1\" class=\"dataframe\">\n",
       "  <thead>\n",
       "    <tr style=\"text-align: right;\">\n",
       "      <th></th>\n",
       "      <th>StudentID</th>\n",
       "      <th>Scores</th>\n",
       "    </tr>\n",
       "  </thead>\n",
       "  <tbody>\n",
       "    <tr>\n",
       "      <th>0</th>\n",
       "      <td>ST12</td>\n",
       "      <td>45</td>\n",
       "    </tr>\n",
       "    <tr>\n",
       "      <th>1</th>\n",
       "      <td>AB34</td>\n",
       "      <td>98</td>\n",
       "    </tr>\n",
       "    <tr>\n",
       "      <th>2</th>\n",
       "      <td>YW98</td>\n",
       "      <td>67</td>\n",
       "    </tr>\n",
       "    <tr>\n",
       "      <th>3</th>\n",
       "      <td>ST34</td>\n",
       "      <td>89</td>\n",
       "    </tr>\n",
       "  </tbody>\n",
       "</table>\n",
       "</div>"
      ],
      "text/plain": [
       "  StudentID  Scores\n",
       "0      ST12      45\n",
       "1      AB34      98\n",
       "2      YW98      67\n",
       "3      ST34      89"
      ]
     },
     "execution_count": 99,
     "metadata": {},
     "output_type": "execute_result"
    }
   ],
   "source": [
    "df.loc[:, \"StudentID\":\"Scores\"]"
   ]
  },
  {
   "cell_type": "code",
   "execution_count": 97,
   "metadata": {},
   "outputs": [
    {
     "data": {
      "text/html": [
       "<div>\n",
       "<style scoped>\n",
       "    .dataframe tbody tr th:only-of-type {\n",
       "        vertical-align: middle;\n",
       "    }\n",
       "\n",
       "    .dataframe tbody tr th {\n",
       "        vertical-align: top;\n",
       "    }\n",
       "\n",
       "    .dataframe thead th {\n",
       "        text-align: right;\n",
       "    }\n",
       "</style>\n",
       "<table border=\"1\" class=\"dataframe\">\n",
       "  <thead>\n",
       "    <tr style=\"text-align: right;\">\n",
       "      <th></th>\n",
       "      <th>StudentID</th>\n",
       "      <th>Scores</th>\n",
       "      <th>Sport</th>\n",
       "    </tr>\n",
       "  </thead>\n",
       "  <tbody>\n",
       "    <tr>\n",
       "      <th>2</th>\n",
       "      <td>YW98</td>\n",
       "      <td>67</td>\n",
       "      <td>Basketball</td>\n",
       "    </tr>\n",
       "  </tbody>\n",
       "</table>\n",
       "</div>"
      ],
      "text/plain": [
       "  StudentID  Scores       Sport\n",
       "2      YW98      67  Basketball"
      ]
     },
     "execution_count": 97,
     "metadata": {},
     "output_type": "execute_result"
    }
   ],
   "source": [
    "df.loc[df[\"StudentID\"] == \"YW98\"]"
   ]
  },
  {
   "cell_type": "code",
   "execution_count": 78,
   "metadata": {},
   "outputs": [
    {
     "data": {
      "text/html": [
       "<div>\n",
       "<style scoped>\n",
       "    .dataframe tbody tr th:only-of-type {\n",
       "        vertical-align: middle;\n",
       "    }\n",
       "\n",
       "    .dataframe tbody tr th {\n",
       "        vertical-align: top;\n",
       "    }\n",
       "\n",
       "    .dataframe thead th {\n",
       "        text-align: right;\n",
       "    }\n",
       "</style>\n",
       "<table border=\"1\" class=\"dataframe\">\n",
       "  <thead>\n",
       "    <tr style=\"text-align: right;\">\n",
       "      <th></th>\n",
       "      <th>StudentID</th>\n",
       "      <th>Scores</th>\n",
       "    </tr>\n",
       "  </thead>\n",
       "  <tbody>\n",
       "    <tr>\n",
       "      <th>0</th>\n",
       "      <td>ST12</td>\n",
       "      <td>45</td>\n",
       "    </tr>\n",
       "    <tr>\n",
       "      <th>1</th>\n",
       "      <td>AB34</td>\n",
       "      <td>98</td>\n",
       "    </tr>\n",
       "    <tr>\n",
       "      <th>2</th>\n",
       "      <td>YW98</td>\n",
       "      <td>67</td>\n",
       "    </tr>\n",
       "    <tr>\n",
       "      <th>3</th>\n",
       "      <td>ST34</td>\n",
       "      <td>89</td>\n",
       "    </tr>\n",
       "  </tbody>\n",
       "</table>\n",
       "</div>"
      ],
      "text/plain": [
       "  StudentID  Scores\n",
       "0      ST12      45\n",
       "1      AB34      98\n",
       "2      YW98      67\n",
       "3      ST34      89"
      ]
     },
     "execution_count": 78,
     "metadata": {},
     "output_type": "execute_result"
    }
   ],
   "source": [
    "df.iloc[:, 0:2]"
   ]
  },
  {
   "cell_type": "code",
   "execution_count": 100,
   "metadata": {},
   "outputs": [
    {
     "data": {
      "text/html": [
       "<div>\n",
       "<style scoped>\n",
       "    .dataframe tbody tr th:only-of-type {\n",
       "        vertical-align: middle;\n",
       "    }\n",
       "\n",
       "    .dataframe tbody tr th {\n",
       "        vertical-align: top;\n",
       "    }\n",
       "\n",
       "    .dataframe thead th {\n",
       "        text-align: right;\n",
       "    }\n",
       "</style>\n",
       "<table border=\"1\" class=\"dataframe\">\n",
       "  <thead>\n",
       "    <tr style=\"text-align: right;\">\n",
       "      <th></th>\n",
       "      <th>StudentID</th>\n",
       "      <th>Scores</th>\n",
       "      <th>Sport</th>\n",
       "    </tr>\n",
       "  </thead>\n",
       "  <tbody>\n",
       "    <tr>\n",
       "      <th>0</th>\n",
       "      <td>ST12</td>\n",
       "      <td>45</td>\n",
       "      <td>Football</td>\n",
       "    </tr>\n",
       "    <tr>\n",
       "      <th>1</th>\n",
       "      <td>AB34</td>\n",
       "      <td>98</td>\n",
       "      <td>Tennis</td>\n",
       "    </tr>\n",
       "  </tbody>\n",
       "</table>\n",
       "</div>"
      ],
      "text/plain": [
       "  StudentID  Scores     Sport\n",
       "0      ST12      45  Football\n",
       "1      AB34      98    Tennis"
      ]
     },
     "execution_count": 100,
     "metadata": {},
     "output_type": "execute_result"
    }
   ],
   "source": [
    "df.iloc[0:2, :]"
   ]
  },
  {
   "cell_type": "code",
   "execution_count": 79,
   "metadata": {},
   "outputs": [
    {
     "data": {
      "text/html": [
       "<div>\n",
       "<style scoped>\n",
       "    .dataframe tbody tr th:only-of-type {\n",
       "        vertical-align: middle;\n",
       "    }\n",
       "\n",
       "    .dataframe tbody tr th {\n",
       "        vertical-align: top;\n",
       "    }\n",
       "\n",
       "    .dataframe thead th {\n",
       "        text-align: right;\n",
       "    }\n",
       "</style>\n",
       "<table border=\"1\" class=\"dataframe\">\n",
       "  <thead>\n",
       "    <tr style=\"text-align: right;\">\n",
       "      <th></th>\n",
       "      <th>StudentID</th>\n",
       "      <th>Scores</th>\n",
       "      <th>Sport</th>\n",
       "    </tr>\n",
       "  </thead>\n",
       "  <tbody>\n",
       "    <tr>\n",
       "      <th>0</th>\n",
       "      <td>ST12</td>\n",
       "      <td>45</td>\n",
       "      <td>Football</td>\n",
       "    </tr>\n",
       "    <tr>\n",
       "      <th>1</th>\n",
       "      <td>AB34</td>\n",
       "      <td>98</td>\n",
       "      <td>Tennis</td>\n",
       "    </tr>\n",
       "  </tbody>\n",
       "</table>\n",
       "</div>"
      ],
      "text/plain": [
       "  StudentID  Scores     Sport\n",
       "0      ST12      45  Football\n",
       "1      AB34      98    Tennis"
      ]
     },
     "execution_count": 79,
     "metadata": {},
     "output_type": "execute_result"
    }
   ],
   "source": [
    "df.iloc[0:2]"
   ]
  },
  {
   "cell_type": "code",
   "execution_count": 81,
   "metadata": {},
   "outputs": [
    {
     "data": {
      "text/html": [
       "<div>\n",
       "<style scoped>\n",
       "    .dataframe tbody tr th:only-of-type {\n",
       "        vertical-align: middle;\n",
       "    }\n",
       "\n",
       "    .dataframe tbody tr th {\n",
       "        vertical-align: top;\n",
       "    }\n",
       "\n",
       "    .dataframe thead th {\n",
       "        text-align: right;\n",
       "    }\n",
       "</style>\n",
       "<table border=\"1\" class=\"dataframe\">\n",
       "  <thead>\n",
       "    <tr style=\"text-align: right;\">\n",
       "      <th></th>\n",
       "      <th>StudentID</th>\n",
       "      <th>Scores</th>\n",
       "      <th>Sport</th>\n",
       "    </tr>\n",
       "  </thead>\n",
       "  <tbody>\n",
       "    <tr>\n",
       "      <th>0</th>\n",
       "      <td>ST12</td>\n",
       "      <td>45</td>\n",
       "      <td>Football</td>\n",
       "    </tr>\n",
       "    <tr>\n",
       "      <th>1</th>\n",
       "      <td>AB34</td>\n",
       "      <td>98</td>\n",
       "      <td>Tennis</td>\n",
       "    </tr>\n",
       "  </tbody>\n",
       "</table>\n",
       "</div>"
      ],
      "text/plain": [
       "  StudentID  Scores     Sport\n",
       "0      ST12      45  Football\n",
       "1      AB34      98    Tennis"
      ]
     },
     "execution_count": 81,
     "metadata": {},
     "output_type": "execute_result"
    }
   ],
   "source": [
    "df.iloc[0:2, 0:3]"
   ]
  },
  {
   "cell_type": "code",
   "execution_count": 105,
   "metadata": {},
   "outputs": [
    {
     "data": {
      "text/html": [
       "<div>\n",
       "<style scoped>\n",
       "    .dataframe tbody tr th:only-of-type {\n",
       "        vertical-align: middle;\n",
       "    }\n",
       "\n",
       "    .dataframe tbody tr th {\n",
       "        vertical-align: top;\n",
       "    }\n",
       "\n",
       "    .dataframe thead th {\n",
       "        text-align: right;\n",
       "    }\n",
       "</style>\n",
       "<table border=\"1\" class=\"dataframe\">\n",
       "  <thead>\n",
       "    <tr style=\"text-align: right;\">\n",
       "      <th></th>\n",
       "      <th>StudentID</th>\n",
       "      <th>Scores</th>\n",
       "      <th>Sport</th>\n",
       "    </tr>\n",
       "  </thead>\n",
       "  <tbody>\n",
       "    <tr>\n",
       "      <th>0</th>\n",
       "      <td>ST12</td>\n",
       "      <td>45</td>\n",
       "      <td>Football</td>\n",
       "    </tr>\n",
       "    <tr>\n",
       "      <th>2</th>\n",
       "      <td>YW98</td>\n",
       "      <td>67</td>\n",
       "      <td>Basketball</td>\n",
       "    </tr>\n",
       "    <tr>\n",
       "      <th>3</th>\n",
       "      <td>ST34</td>\n",
       "      <td>89</td>\n",
       "      <td>Football</td>\n",
       "    </tr>\n",
       "    <tr>\n",
       "      <th>1</th>\n",
       "      <td>AB34</td>\n",
       "      <td>98</td>\n",
       "      <td>Tennis</td>\n",
       "    </tr>\n",
       "  </tbody>\n",
       "</table>\n",
       "</div>"
      ],
      "text/plain": [
       "  StudentID  Scores       Sport\n",
       "0      ST12      45    Football\n",
       "2      YW98      67  Basketball\n",
       "3      ST34      89    Football\n",
       "1      AB34      98      Tennis"
      ]
     },
     "execution_count": 105,
     "metadata": {},
     "output_type": "execute_result"
    }
   ],
   "source": [
    "df.sort_values(by='Scores')"
   ]
  },
  {
   "cell_type": "markdown",
   "metadata": {
    "slideshow": {
     "slide_type": "slide"
    }
   },
   "source": [
    "**M. PyR - Possible Cell and Line Magics**"
   ]
  },
  {
   "cell_type": "code",
   "execution_count": 64,
   "metadata": {},
   "outputs": [
    {
     "data": {
      "application/json": {
       "cell": {
        "!": "OSMagics",
        "HTML": "Other",
        "SVG": "Other",
        "bash": "Other",
        "capture": "ExecutionMagics",
        "cmd": "Other",
        "debug": "ExecutionMagics",
        "file": "Other",
        "html": "DisplayMagics",
        "javascript": "DisplayMagics",
        "js": "DisplayMagics",
        "latex": "DisplayMagics",
        "markdown": "DisplayMagics",
        "perl": "Other",
        "prun": "ExecutionMagics",
        "pypy": "Other",
        "python": "Other",
        "python2": "Other",
        "python3": "Other",
        "ruby": "Other",
        "script": "ScriptMagics",
        "sh": "Other",
        "svg": "DisplayMagics",
        "sx": "OSMagics",
        "system": "OSMagics",
        "time": "ExecutionMagics",
        "timeit": "ExecutionMagics",
        "writefile": "OSMagics"
       },
       "line": {
        "alias": "OSMagics",
        "alias_magic": "BasicMagics",
        "autoawait": "AsyncMagics",
        "autocall": "AutoMagics",
        "automagic": "AutoMagics",
        "autosave": "KernelMagics",
        "bookmark": "OSMagics",
        "cd": "OSMagics",
        "clear": "KernelMagics",
        "cls": "KernelMagics",
        "colors": "BasicMagics",
        "conda": "PackagingMagics",
        "config": "ConfigMagics",
        "connect_info": "KernelMagics",
        "copy": "Other",
        "ddir": "Other",
        "debug": "ExecutionMagics",
        "dhist": "OSMagics",
        "dirs": "OSMagics",
        "doctest_mode": "BasicMagics",
        "echo": "Other",
        "ed": "Other",
        "edit": "KernelMagics",
        "env": "OSMagics",
        "gui": "BasicMagics",
        "hist": "Other",
        "history": "HistoryMagics",
        "killbgscripts": "ScriptMagics",
        "ldir": "Other",
        "less": "KernelMagics",
        "load": "CodeMagics",
        "load_ext": "ExtensionMagics",
        "loadpy": "CodeMagics",
        "logoff": "LoggingMagics",
        "logon": "LoggingMagics",
        "logstart": "LoggingMagics",
        "logstate": "LoggingMagics",
        "logstop": "LoggingMagics",
        "ls": "Other",
        "lsmagic": "BasicMagics",
        "macro": "ExecutionMagics",
        "magic": "BasicMagics",
        "matplotlib": "PylabMagics",
        "mkdir": "Other",
        "more": "KernelMagics",
        "notebook": "BasicMagics",
        "page": "BasicMagics",
        "pastebin": "CodeMagics",
        "pdb": "ExecutionMagics",
        "pdef": "NamespaceMagics",
        "pdoc": "NamespaceMagics",
        "pfile": "NamespaceMagics",
        "pinfo": "NamespaceMagics",
        "pinfo2": "NamespaceMagics",
        "pip": "PackagingMagics",
        "popd": "OSMagics",
        "pprint": "BasicMagics",
        "precision": "BasicMagics",
        "prun": "ExecutionMagics",
        "psearch": "NamespaceMagics",
        "psource": "NamespaceMagics",
        "pushd": "OSMagics",
        "pwd": "OSMagics",
        "pycat": "OSMagics",
        "pylab": "PylabMagics",
        "qtconsole": "KernelMagics",
        "quickref": "BasicMagics",
        "recall": "HistoryMagics",
        "rehashx": "OSMagics",
        "reload_ext": "ExtensionMagics",
        "ren": "Other",
        "rep": "Other",
        "rerun": "HistoryMagics",
        "reset": "NamespaceMagics",
        "reset_selective": "NamespaceMagics",
        "rmdir": "Other",
        "run": "ExecutionMagics",
        "save": "CodeMagics",
        "sc": "OSMagics",
        "set_env": "OSMagics",
        "store": "StoreMagics",
        "sx": "OSMagics",
        "system": "OSMagics",
        "tb": "ExecutionMagics",
        "time": "ExecutionMagics",
        "timeit": "ExecutionMagics",
        "unalias": "OSMagics",
        "unload_ext": "ExtensionMagics",
        "who": "NamespaceMagics",
        "who_ls": "NamespaceMagics",
        "whos": "NamespaceMagics",
        "xdel": "NamespaceMagics",
        "xmode": "BasicMagics"
       }
      },
      "text/plain": [
       "Available line magics:\n",
       "%alias  %alias_magic  %autoawait  %autocall  %automagic  %autosave  %bookmark  %cd  %clear  %cls  %colors  %conda  %config  %connect_info  %copy  %ddir  %debug  %dhist  %dirs  %doctest_mode  %echo  %ed  %edit  %env  %gui  %hist  %history  %killbgscripts  %ldir  %less  %load  %load_ext  %loadpy  %logoff  %logon  %logstart  %logstate  %logstop  %ls  %lsmagic  %macro  %magic  %matplotlib  %mkdir  %more  %notebook  %page  %pastebin  %pdb  %pdef  %pdoc  %pfile  %pinfo  %pinfo2  %pip  %popd  %pprint  %precision  %prun  %psearch  %psource  %pushd  %pwd  %pycat  %pylab  %qtconsole  %quickref  %recall  %rehashx  %reload_ext  %ren  %rep  %rerun  %reset  %reset_selective  %rmdir  %run  %save  %sc  %set_env  %store  %sx  %system  %tb  %time  %timeit  %unalias  %unload_ext  %who  %who_ls  %whos  %xdel  %xmode\n",
       "\n",
       "Available cell magics:\n",
       "%%!  %%HTML  %%SVG  %%bash  %%capture  %%cmd  %%debug  %%file  %%html  %%javascript  %%js  %%latex  %%markdown  %%perl  %%prun  %%pypy  %%python  %%python2  %%python3  %%ruby  %%script  %%sh  %%svg  %%sx  %%system  %%time  %%timeit  %%writefile\n",
       "\n",
       "Automagic is ON, % prefix IS NOT needed for line magics."
      ]
     },
     "execution_count": 64,
     "metadata": {},
     "output_type": "execute_result"
    }
   ],
   "source": [
    "%lsmagic"
   ]
  },
  {
   "cell_type": "code",
   "execution_count": 65,
   "metadata": {},
   "outputs": [
    {
     "data": {
      "text/latex": [
       "\n",
       "$x$ = $\\frac{2}{y}$\n"
      ],
      "text/plain": [
       "<IPython.core.display.Latex object>"
      ]
     },
     "metadata": {},
     "output_type": "display_data"
    }
   ],
   "source": [
    "%%latex\n",
    "\n",
    "$x$ = $\\frac{2}{y}$"
   ]
  },
  {
   "cell_type": "markdown",
   "metadata": {},
   "source": [
    "&copy; Mango Solutions"
   ]
  }
 ],
 "metadata": {
  "kernelspec": {
   "display_name": "Python 3",
   "language": "python",
   "name": "python3"
  },
  "language_info": {
   "codemirror_mode": {
    "name": "ipython",
    "version": 3
   },
   "file_extension": ".py",
   "mimetype": "text/x-python",
   "name": "python",
   "nbconvert_exporter": "python",
   "pygments_lexer": "ipython3",
   "version": "3.7.3"
  }
 },
 "nbformat": 4,
 "nbformat_minor": 2
}
