{
 "cells": [
  {
   "cell_type": "markdown",
   "metadata": {},
   "source": [
    "[![londonr-banner-logo](../images/londonr-banner.png)](https://www.londonr.org/)"
   ]
  },
  {
   "cell_type": "markdown",
   "metadata": {},
   "source": [
    "<div style = \"text-align: right\"><font size = 3 color = \"#B22222\" face = \"verdana\"><b>- LondonR - Python for R Users - </b></font></div>\n",
    "<div style = \"text-align: right\"><font><i>By 'Dayo Oguntoyinbo</i></font></div>\n",
    "<div style = \"text-align: right\"><font>16th December 2019</font></div>"
   ]
  },
  {
   "cell_type": "markdown",
   "metadata": {},
   "source": [
    "# Part F - More Packages"
   ]
  },
  {
   "cell_type": "code",
   "execution_count": 1,
   "metadata": {
    "tags": [
     "skip"
    ]
   },
   "outputs": [],
   "source": [
    "# Options for all cells \n",
    "import pandas as pd\n",
    "# change display setting of pandas\n",
    "pd.set_option('display.notebook_repr_html', False)\n",
    "# Setting the graphics\n",
    "%matplotlib inline\n",
    "# suppress all warnings (since anova gives a warning)\n",
    "import warnings\n",
    "warnings.filterwarnings(\"ignore\")"
   ]
  },
  {
   "cell_type": "markdown",
   "metadata": {},
   "source": [
    "# Taking Python further"
   ]
  },
  {
   "cell_type": "markdown",
   "metadata": {},
   "source": [
    "Like R, Python’s strength comes from the range of packages that are being developed by the open source community."
   ]
  },
  {
   "cell_type": "markdown",
   "metadata": {},
   "source": [
    "So far, we have introduced the popular packages for data science. All of these are part of the standard distribution installed with Anaconda. Below are examples of more great packages for visualisation, modelling and general data science."
   ]
  },
  {
   "cell_type": "markdown",
   "metadata": {},
   "source": [
    "**Tip**\n",
    "\n",
    "Additional packages can be installed from the command line via `pip install <package name>`."
   ]
  },
  {
   "cell_type": "markdown",
   "metadata": {},
   "source": [
    "## More Visualisation"
   ]
  },
  {
   "cell_type": "markdown",
   "metadata": {},
   "source": [
    "Python has a lot of packages created for data visualisation. **Seaborn** creates flexible graphics for plotting data but it doesn’t follow The Grammar of Graphics that R users are familiar with from **ggplot2**. **Seaborn** also has a limited number of diagnostic plots for visualising our models. To overcome these, we could use:"
   ]
  },
  {
   "cell_type": "markdown",
   "metadata": {},
   "source": [
    "- **ggplot** - a plotting system for Python based on **ggplot2**\n",
    "- **bokeh** - a package native to Python and using The Grammar of Graphics. You can also use it to create interactive plots in either JSON or HTML for web applications.\n",
    "- **Yellowbrick** - a package extending on **scikit-learn** for creating diagnostic plots to help during model selection.\n",
    "- **folium** - https://github.com/python-visualization/folium"
   ]
  },
  {
   "cell_type": "markdown",
   "metadata": {},
   "source": [
    "### Bokeh Example"
   ]
  },
  {
   "cell_type": "markdown",
   "metadata": {},
   "source": [
    "Below is an example showing how to create an interactive plot in a notebook using **bokeh**:"
   ]
  },
  {
   "cell_type": "code",
   "execution_count": 2,
   "metadata": {},
   "outputs": [
    {
     "data": {
      "text/html": [
       "\n",
       "    <div class=\"bk-root\">\n",
       "        <a href=\"https://bokeh.org\" target=\"_blank\" class=\"bk-logo bk-logo-small bk-logo-notebook\"></a>\n",
       "        <span id=\"1001\">Loading BokehJS ...</span>\n",
       "    </div>"
      ]
     },
     "metadata": {},
     "output_type": "display_data"
    },
    {
     "data": {
      "application/javascript": [
       "\n",
       "(function(root) {\n",
       "  function now() {\n",
       "    return new Date();\n",
       "  }\n",
       "\n",
       "  var force = true;\n",
       "\n",
       "  if (typeof root._bokeh_onload_callbacks === \"undefined\" || force === true) {\n",
       "    root._bokeh_onload_callbacks = [];\n",
       "    root._bokeh_is_loading = undefined;\n",
       "  }\n",
       "\n",
       "  var JS_MIME_TYPE = 'application/javascript';\n",
       "  var HTML_MIME_TYPE = 'text/html';\n",
       "  var EXEC_MIME_TYPE = 'application/vnd.bokehjs_exec.v0+json';\n",
       "  var CLASS_NAME = 'output_bokeh rendered_html';\n",
       "\n",
       "  /**\n",
       "   * Render data to the DOM node\n",
       "   */\n",
       "  function render(props, node) {\n",
       "    var script = document.createElement(\"script\");\n",
       "    node.appendChild(script);\n",
       "  }\n",
       "\n",
       "  /**\n",
       "   * Handle when an output is cleared or removed\n",
       "   */\n",
       "  function handleClearOutput(event, handle) {\n",
       "    var cell = handle.cell;\n",
       "\n",
       "    var id = cell.output_area._bokeh_element_id;\n",
       "    var server_id = cell.output_area._bokeh_server_id;\n",
       "    // Clean up Bokeh references\n",
       "    if (id != null && id in Bokeh.index) {\n",
       "      Bokeh.index[id].model.document.clear();\n",
       "      delete Bokeh.index[id];\n",
       "    }\n",
       "\n",
       "    if (server_id !== undefined) {\n",
       "      // Clean up Bokeh references\n",
       "      var cmd = \"from bokeh.io.state import curstate; print(curstate().uuid_to_server['\" + server_id + \"'].get_sessions()[0].document.roots[0]._id)\";\n",
       "      cell.notebook.kernel.execute(cmd, {\n",
       "        iopub: {\n",
       "          output: function(msg) {\n",
       "            var id = msg.content.text.trim();\n",
       "            if (id in Bokeh.index) {\n",
       "              Bokeh.index[id].model.document.clear();\n",
       "              delete Bokeh.index[id];\n",
       "            }\n",
       "          }\n",
       "        }\n",
       "      });\n",
       "      // Destroy server and session\n",
       "      var cmd = \"import bokeh.io.notebook as ion; ion.destroy_server('\" + server_id + \"')\";\n",
       "      cell.notebook.kernel.execute(cmd);\n",
       "    }\n",
       "  }\n",
       "\n",
       "  /**\n",
       "   * Handle when a new output is added\n",
       "   */\n",
       "  function handleAddOutput(event, handle) {\n",
       "    var output_area = handle.output_area;\n",
       "    var output = handle.output;\n",
       "\n",
       "    // limit handleAddOutput to display_data with EXEC_MIME_TYPE content only\n",
       "    if ((output.output_type != \"display_data\") || (!output.data.hasOwnProperty(EXEC_MIME_TYPE))) {\n",
       "      return\n",
       "    }\n",
       "\n",
       "    var toinsert = output_area.element.find(\".\" + CLASS_NAME.split(' ')[0]);\n",
       "\n",
       "    if (output.metadata[EXEC_MIME_TYPE][\"id\"] !== undefined) {\n",
       "      toinsert[toinsert.length - 1].firstChild.textContent = output.data[JS_MIME_TYPE];\n",
       "      // store reference to embed id on output_area\n",
       "      output_area._bokeh_element_id = output.metadata[EXEC_MIME_TYPE][\"id\"];\n",
       "    }\n",
       "    if (output.metadata[EXEC_MIME_TYPE][\"server_id\"] !== undefined) {\n",
       "      var bk_div = document.createElement(\"div\");\n",
       "      bk_div.innerHTML = output.data[HTML_MIME_TYPE];\n",
       "      var script_attrs = bk_div.children[0].attributes;\n",
       "      for (var i = 0; i < script_attrs.length; i++) {\n",
       "        toinsert[toinsert.length - 1].firstChild.setAttribute(script_attrs[i].name, script_attrs[i].value);\n",
       "      }\n",
       "      // store reference to server id on output_area\n",
       "      output_area._bokeh_server_id = output.metadata[EXEC_MIME_TYPE][\"server_id\"];\n",
       "    }\n",
       "  }\n",
       "\n",
       "  function register_renderer(events, OutputArea) {\n",
       "\n",
       "    function append_mime(data, metadata, element) {\n",
       "      // create a DOM node to render to\n",
       "      var toinsert = this.create_output_subarea(\n",
       "        metadata,\n",
       "        CLASS_NAME,\n",
       "        EXEC_MIME_TYPE\n",
       "      );\n",
       "      this.keyboard_manager.register_events(toinsert);\n",
       "      // Render to node\n",
       "      var props = {data: data, metadata: metadata[EXEC_MIME_TYPE]};\n",
       "      render(props, toinsert[toinsert.length - 1]);\n",
       "      element.append(toinsert);\n",
       "      return toinsert\n",
       "    }\n",
       "\n",
       "    /* Handle when an output is cleared or removed */\n",
       "    events.on('clear_output.CodeCell', handleClearOutput);\n",
       "    events.on('delete.Cell', handleClearOutput);\n",
       "\n",
       "    /* Handle when a new output is added */\n",
       "    events.on('output_added.OutputArea', handleAddOutput);\n",
       "\n",
       "    /**\n",
       "     * Register the mime type and append_mime function with output_area\n",
       "     */\n",
       "    OutputArea.prototype.register_mime_type(EXEC_MIME_TYPE, append_mime, {\n",
       "      /* Is output safe? */\n",
       "      safe: true,\n",
       "      /* Index of renderer in `output_area.display_order` */\n",
       "      index: 0\n",
       "    });\n",
       "  }\n",
       "\n",
       "  // register the mime type if in Jupyter Notebook environment and previously unregistered\n",
       "  if (root.Jupyter !== undefined) {\n",
       "    var events = require('base/js/events');\n",
       "    var OutputArea = require('notebook/js/outputarea').OutputArea;\n",
       "\n",
       "    if (OutputArea.prototype.mime_types().indexOf(EXEC_MIME_TYPE) == -1) {\n",
       "      register_renderer(events, OutputArea);\n",
       "    }\n",
       "  }\n",
       "\n",
       "  \n",
       "  if (typeof (root._bokeh_timeout) === \"undefined\" || force === true) {\n",
       "    root._bokeh_timeout = Date.now() + 5000;\n",
       "    root._bokeh_failed_load = false;\n",
       "  }\n",
       "\n",
       "  var NB_LOAD_WARNING = {'data': {'text/html':\n",
       "     \"<div style='background-color: #fdd'>\\n\"+\n",
       "     \"<p>\\n\"+\n",
       "     \"BokehJS does not appear to have successfully loaded. If loading BokehJS from CDN, this \\n\"+\n",
       "     \"may be due to a slow or bad network connection. Possible fixes:\\n\"+\n",
       "     \"</p>\\n\"+\n",
       "     \"<ul>\\n\"+\n",
       "     \"<li>re-rerun `output_notebook()` to attempt to load from CDN again, or</li>\\n\"+\n",
       "     \"<li>use INLINE resources instead, as so:</li>\\n\"+\n",
       "     \"</ul>\\n\"+\n",
       "     \"<code>\\n\"+\n",
       "     \"from bokeh.resources import INLINE\\n\"+\n",
       "     \"output_notebook(resources=INLINE)\\n\"+\n",
       "     \"</code>\\n\"+\n",
       "     \"</div>\"}};\n",
       "\n",
       "  function display_loaded() {\n",
       "    var el = document.getElementById(\"1001\");\n",
       "    if (el != null) {\n",
       "      el.textContent = \"BokehJS is loading...\";\n",
       "    }\n",
       "    if (root.Bokeh !== undefined) {\n",
       "      if (el != null) {\n",
       "        el.textContent = \"BokehJS \" + root.Bokeh.version + \" successfully loaded.\";\n",
       "      }\n",
       "    } else if (Date.now() < root._bokeh_timeout) {\n",
       "      setTimeout(display_loaded, 100)\n",
       "    }\n",
       "  }\n",
       "\n",
       "\n",
       "  function run_callbacks() {\n",
       "    try {\n",
       "      root._bokeh_onload_callbacks.forEach(function(callback) {\n",
       "        if (callback != null)\n",
       "          callback();\n",
       "      });\n",
       "    } finally {\n",
       "      delete root._bokeh_onload_callbacks\n",
       "    }\n",
       "    console.debug(\"Bokeh: all callbacks have finished\");\n",
       "  }\n",
       "\n",
       "  function load_libs(css_urls, js_urls, callback) {\n",
       "    if (css_urls == null) css_urls = [];\n",
       "    if (js_urls == null) js_urls = [];\n",
       "\n",
       "    root._bokeh_onload_callbacks.push(callback);\n",
       "    if (root._bokeh_is_loading > 0) {\n",
       "      console.debug(\"Bokeh: BokehJS is being loaded, scheduling callback at\", now());\n",
       "      return null;\n",
       "    }\n",
       "    if (js_urls == null || js_urls.length === 0) {\n",
       "      run_callbacks();\n",
       "      return null;\n",
       "    }\n",
       "    console.debug(\"Bokeh: BokehJS not loaded, scheduling load and callback at\", now());\n",
       "    root._bokeh_is_loading = css_urls.length + js_urls.length;\n",
       "\n",
       "    function on_load() {\n",
       "      root._bokeh_is_loading--;\n",
       "      if (root._bokeh_is_loading === 0) {\n",
       "        console.debug(\"Bokeh: all BokehJS libraries/stylesheets loaded\");\n",
       "        run_callbacks()\n",
       "      }\n",
       "    }\n",
       "\n",
       "    function on_error() {\n",
       "      console.error(\"failed to load \" + url);\n",
       "    }\n",
       "\n",
       "    for (var i = 0; i < css_urls.length; i++) {\n",
       "      var url = css_urls[i];\n",
       "      const element = document.createElement(\"link\");\n",
       "      element.onload = on_load;\n",
       "      element.onerror = on_error;\n",
       "      element.rel = \"stylesheet\";\n",
       "      element.type = \"text/css\";\n",
       "      element.href = url;\n",
       "      console.debug(\"Bokeh: injecting link tag for BokehJS stylesheet: \", url);\n",
       "      document.body.appendChild(element);\n",
       "    }\n",
       "\n",
       "    for (var i = 0; i < js_urls.length; i++) {\n",
       "      var url = js_urls[i];\n",
       "      var element = document.createElement('script');\n",
       "      element.onload = on_load;\n",
       "      element.onerror = on_error;\n",
       "      element.async = false;\n",
       "      element.src = url;\n",
       "      console.debug(\"Bokeh: injecting script tag for BokehJS library: \", url);\n",
       "      document.head.appendChild(element);\n",
       "    }\n",
       "  };var element = document.getElementById(\"1001\");\n",
       "  if (element == null) {\n",
       "    console.error(\"Bokeh: ERROR: autoload.js configured with elementid '1001' but no matching script tag was found. \")\n",
       "    return false;\n",
       "  }\n",
       "\n",
       "  function inject_raw_css(css) {\n",
       "    const element = document.createElement(\"style\");\n",
       "    element.appendChild(document.createTextNode(css));\n",
       "    document.body.appendChild(element);\n",
       "  }\n",
       "\n",
       "  \n",
       "  var js_urls = [\"https://cdn.pydata.org/bokeh/release/bokeh-1.4.0.min.js\", \"https://cdn.pydata.org/bokeh/release/bokeh-widgets-1.4.0.min.js\", \"https://cdn.pydata.org/bokeh/release/bokeh-tables-1.4.0.min.js\", \"https://cdn.pydata.org/bokeh/release/bokeh-gl-1.4.0.min.js\"];\n",
       "  var css_urls = [];\n",
       "  \n",
       "\n",
       "  var inline_js = [\n",
       "    function(Bokeh) {\n",
       "      Bokeh.set_log_level(\"info\");\n",
       "    },\n",
       "    function(Bokeh) {\n",
       "    \n",
       "    \n",
       "    }\n",
       "  ];\n",
       "\n",
       "  function run_inline_js() {\n",
       "    \n",
       "    if (root.Bokeh !== undefined || force === true) {\n",
       "      \n",
       "    for (var i = 0; i < inline_js.length; i++) {\n",
       "      inline_js[i].call(root, root.Bokeh);\n",
       "    }\n",
       "    if (force === true) {\n",
       "        display_loaded();\n",
       "      }} else if (Date.now() < root._bokeh_timeout) {\n",
       "      setTimeout(run_inline_js, 100);\n",
       "    } else if (!root._bokeh_failed_load) {\n",
       "      console.log(\"Bokeh: BokehJS failed to load within specified timeout.\");\n",
       "      root._bokeh_failed_load = true;\n",
       "    } else if (force !== true) {\n",
       "      var cell = $(document.getElementById(\"1001\")).parents('.cell').data().cell;\n",
       "      cell.output_area.append_execute_result(NB_LOAD_WARNING)\n",
       "    }\n",
       "\n",
       "  }\n",
       "\n",
       "  if (root._bokeh_is_loading === 0) {\n",
       "    console.debug(\"Bokeh: BokehJS loaded, going straight to plotting\");\n",
       "    run_inline_js();\n",
       "  } else {\n",
       "    load_libs(css_urls, js_urls, function() {\n",
       "      console.debug(\"Bokeh: BokehJS plotting callback run at\", now());\n",
       "      run_inline_js();\n",
       "    });\n",
       "  }\n",
       "}(window));"
      ],
      "application/vnd.bokehjs_load.v0+json": "\n(function(root) {\n  function now() {\n    return new Date();\n  }\n\n  var force = true;\n\n  if (typeof root._bokeh_onload_callbacks === \"undefined\" || force === true) {\n    root._bokeh_onload_callbacks = [];\n    root._bokeh_is_loading = undefined;\n  }\n\n  \n\n  \n  if (typeof (root._bokeh_timeout) === \"undefined\" || force === true) {\n    root._bokeh_timeout = Date.now() + 5000;\n    root._bokeh_failed_load = false;\n  }\n\n  var NB_LOAD_WARNING = {'data': {'text/html':\n     \"<div style='background-color: #fdd'>\\n\"+\n     \"<p>\\n\"+\n     \"BokehJS does not appear to have successfully loaded. If loading BokehJS from CDN, this \\n\"+\n     \"may be due to a slow or bad network connection. Possible fixes:\\n\"+\n     \"</p>\\n\"+\n     \"<ul>\\n\"+\n     \"<li>re-rerun `output_notebook()` to attempt to load from CDN again, or</li>\\n\"+\n     \"<li>use INLINE resources instead, as so:</li>\\n\"+\n     \"</ul>\\n\"+\n     \"<code>\\n\"+\n     \"from bokeh.resources import INLINE\\n\"+\n     \"output_notebook(resources=INLINE)\\n\"+\n     \"</code>\\n\"+\n     \"</div>\"}};\n\n  function display_loaded() {\n    var el = document.getElementById(\"1001\");\n    if (el != null) {\n      el.textContent = \"BokehJS is loading...\";\n    }\n    if (root.Bokeh !== undefined) {\n      if (el != null) {\n        el.textContent = \"BokehJS \" + root.Bokeh.version + \" successfully loaded.\";\n      }\n    } else if (Date.now() < root._bokeh_timeout) {\n      setTimeout(display_loaded, 100)\n    }\n  }\n\n\n  function run_callbacks() {\n    try {\n      root._bokeh_onload_callbacks.forEach(function(callback) {\n        if (callback != null)\n          callback();\n      });\n    } finally {\n      delete root._bokeh_onload_callbacks\n    }\n    console.debug(\"Bokeh: all callbacks have finished\");\n  }\n\n  function load_libs(css_urls, js_urls, callback) {\n    if (css_urls == null) css_urls = [];\n    if (js_urls == null) js_urls = [];\n\n    root._bokeh_onload_callbacks.push(callback);\n    if (root._bokeh_is_loading > 0) {\n      console.debug(\"Bokeh: BokehJS is being loaded, scheduling callback at\", now());\n      return null;\n    }\n    if (js_urls == null || js_urls.length === 0) {\n      run_callbacks();\n      return null;\n    }\n    console.debug(\"Bokeh: BokehJS not loaded, scheduling load and callback at\", now());\n    root._bokeh_is_loading = css_urls.length + js_urls.length;\n\n    function on_load() {\n      root._bokeh_is_loading--;\n      if (root._bokeh_is_loading === 0) {\n        console.debug(\"Bokeh: all BokehJS libraries/stylesheets loaded\");\n        run_callbacks()\n      }\n    }\n\n    function on_error() {\n      console.error(\"failed to load \" + url);\n    }\n\n    for (var i = 0; i < css_urls.length; i++) {\n      var url = css_urls[i];\n      const element = document.createElement(\"link\");\n      element.onload = on_load;\n      element.onerror = on_error;\n      element.rel = \"stylesheet\";\n      element.type = \"text/css\";\n      element.href = url;\n      console.debug(\"Bokeh: injecting link tag for BokehJS stylesheet: \", url);\n      document.body.appendChild(element);\n    }\n\n    for (var i = 0; i < js_urls.length; i++) {\n      var url = js_urls[i];\n      var element = document.createElement('script');\n      element.onload = on_load;\n      element.onerror = on_error;\n      element.async = false;\n      element.src = url;\n      console.debug(\"Bokeh: injecting script tag for BokehJS library: \", url);\n      document.head.appendChild(element);\n    }\n  };var element = document.getElementById(\"1001\");\n  if (element == null) {\n    console.error(\"Bokeh: ERROR: autoload.js configured with elementid '1001' but no matching script tag was found. \")\n    return false;\n  }\n\n  function inject_raw_css(css) {\n    const element = document.createElement(\"style\");\n    element.appendChild(document.createTextNode(css));\n    document.body.appendChild(element);\n  }\n\n  \n  var js_urls = [\"https://cdn.pydata.org/bokeh/release/bokeh-1.4.0.min.js\", \"https://cdn.pydata.org/bokeh/release/bokeh-widgets-1.4.0.min.js\", \"https://cdn.pydata.org/bokeh/release/bokeh-tables-1.4.0.min.js\", \"https://cdn.pydata.org/bokeh/release/bokeh-gl-1.4.0.min.js\"];\n  var css_urls = [];\n  \n\n  var inline_js = [\n    function(Bokeh) {\n      Bokeh.set_log_level(\"info\");\n    },\n    function(Bokeh) {\n    \n    \n    }\n  ];\n\n  function run_inline_js() {\n    \n    if (root.Bokeh !== undefined || force === true) {\n      \n    for (var i = 0; i < inline_js.length; i++) {\n      inline_js[i].call(root, root.Bokeh);\n    }\n    if (force === true) {\n        display_loaded();\n      }} else if (Date.now() < root._bokeh_timeout) {\n      setTimeout(run_inline_js, 100);\n    } else if (!root._bokeh_failed_load) {\n      console.log(\"Bokeh: BokehJS failed to load within specified timeout.\");\n      root._bokeh_failed_load = true;\n    } else if (force !== true) {\n      var cell = $(document.getElementById(\"1001\")).parents('.cell').data().cell;\n      cell.output_area.append_execute_result(NB_LOAD_WARNING)\n    }\n\n  }\n\n  if (root._bokeh_is_loading === 0) {\n    console.debug(\"Bokeh: BokehJS loaded, going straight to plotting\");\n    run_inline_js();\n  } else {\n    load_libs(css_urls, js_urls, function() {\n      console.debug(\"Bokeh: BokehJS plotting callback run at\", now());\n      run_inline_js();\n    });\n  }\n}(window));"
     },
     "metadata": {},
     "output_type": "display_data"
    },
    {
     "data": {
      "text/html": [
       "\n",
       "\n",
       "\n",
       "\n",
       "\n",
       "\n",
       "  <div class=\"bk-root\" id=\"20a48a6c-fc57-429a-beed-ec80d9b7443e\" data-root-id=\"1002\"></div>\n"
      ]
     },
     "metadata": {},
     "output_type": "display_data"
    },
    {
     "data": {
      "application/javascript": [
       "(function(root) {\n",
       "  function embed_document(root) {\n",
       "    \n",
       "  var docs_json = {\"b68d1100-3fbe-4650-ad2c-15750345fc1c\":{\"roots\":{\"references\":[{\"attributes\":{\"below\":[{\"id\":\"1011\",\"type\":\"LinearAxis\"}],\"center\":[{\"id\":\"1015\",\"type\":\"Grid\"},{\"id\":\"1020\",\"type\":\"Grid\"}],\"left\":[{\"id\":\"1016\",\"type\":\"LinearAxis\"}],\"renderers\":[{\"id\":\"1037\",\"type\":\"GlyphRenderer\"}],\"title\":{\"id\":\"1040\",\"type\":\"Title\"},\"toolbar\":{\"id\":\"1027\",\"type\":\"Toolbar\"},\"x_range\":{\"id\":\"1003\",\"type\":\"Range1d\"},\"x_scale\":{\"id\":\"1007\",\"type\":\"LinearScale\"},\"y_range\":{\"id\":\"1005\",\"type\":\"Range1d\"},\"y_scale\":{\"id\":\"1009\",\"type\":\"LinearScale\"}},\"id\":\"1002\",\"subtype\":\"Figure\",\"type\":\"Plot\"},{\"attributes\":{\"bottom_units\":\"screen\",\"fill_alpha\":{\"value\":0.5},\"fill_color\":{\"value\":\"lightgrey\"},\"left_units\":\"screen\",\"level\":\"overlay\",\"line_alpha\":{\"value\":1.0},\"line_color\":{\"value\":\"black\"},\"line_dash\":[4,4],\"line_width\":{\"value\":2},\"render_mode\":\"css\",\"right_units\":\"screen\",\"top_units\":\"screen\"},\"id\":\"1046\",\"type\":\"BoxAnnotation\"},{\"attributes\":{\"dimension\":1,\"ticker\":{\"id\":\"1017\",\"type\":\"BasicTicker\"}},\"id\":\"1020\",\"type\":\"Grid\"},{\"attributes\":{\"fill_alpha\":{\"value\":0.5},\"fill_color\":{\"value\":\"lightgrey\"},\"level\":\"overlay\",\"line_alpha\":{\"value\":1.0},\"line_color\":{\"value\":\"black\"},\"line_dash\":[4,4],\"line_width\":{\"value\":2},\"xs_units\":\"screen\",\"ys_units\":\"screen\"},\"id\":\"1047\",\"type\":\"PolyAnnotation\"},{\"attributes\":{},\"id\":\"1022\",\"type\":\"WheelZoomTool\"},{\"attributes\":{},\"id\":\"1048\",\"type\":\"UnionRenderers\"},{\"attributes\":{},\"id\":\"1021\",\"type\":\"CrosshairTool\"},{\"attributes\":{},\"id\":\"1049\",\"type\":\"Selection\"},{\"attributes\":{\"overlay\":{\"id\":\"1045\",\"type\":\"BoxAnnotation\"}},\"id\":\"1023\",\"type\":\"BoxZoomTool\"},{\"attributes\":{},\"id\":\"1024\",\"type\":\"ResetTool\"},{\"attributes\":{\"callback\":null,\"overlay\":{\"id\":\"1046\",\"type\":\"BoxAnnotation\"}},\"id\":\"1025\",\"type\":\"BoxSelectTool\"},{\"attributes\":{\"callback\":null,\"overlay\":{\"id\":\"1047\",\"type\":\"PolyAnnotation\"}},\"id\":\"1026\",\"type\":\"LassoSelectTool\"},{\"attributes\":{\"callback\":null,\"end\":168.0},\"id\":\"1003\",\"type\":\"Range1d\"},{\"attributes\":{\"active_drag\":\"auto\",\"active_inspect\":\"auto\",\"active_multi\":null,\"active_scroll\":\"auto\",\"active_tap\":\"auto\",\"tools\":[{\"id\":\"1021\",\"type\":\"CrosshairTool\"},{\"id\":\"1022\",\"type\":\"WheelZoomTool\"},{\"id\":\"1023\",\"type\":\"BoxZoomTool\"},{\"id\":\"1024\",\"type\":\"ResetTool\"},{\"id\":\"1025\",\"type\":\"BoxSelectTool\"},{\"id\":\"1026\",\"type\":\"LassoSelectTool\"}]},\"id\":\"1027\",\"type\":\"Toolbar\"},{\"attributes\":{\"fill_alpha\":{\"value\":0.6},\"fill_color\":{\"value\":\"#1f77b4\"},\"line_color\":{\"value\":null},\"x\":{\"field\":\"x\"},\"y\":{\"field\":\"y\"}},\"id\":\"1035\",\"type\":\"Circle\"},{\"attributes\":{\"callback\":null,\"data\":{\"x\":{\"__ndarray__\":\"AAAAAACAREAAAAAAAABCQAAAAAAAAChAAAAAAAAAMkAAAAAAAAD4fwAAAAAAADxAAAAAAAAAN0AAAAAAAAAzQAAAAAAAACBAAAAAAAAA+H8AAAAAAAAcQAAAAAAAADBAAAAAAAAAJkAAAAAAAAAsQAAAAAAAADJAAAAAAAAALEAAAAAAAABBQAAAAAAAABhAAAAAAAAAPkAAAAAAAAAmQAAAAAAAAPA/AAAAAAAAJkAAAAAAAAAQQAAAAAAAAEBAAAAAAAAA+H8AAAAAAAD4fwAAAAAAAPh/AAAAAAAAN0AAAAAAAIBGQAAAAAAAwFxAAAAAAACAQkAAAAAAAAD4fwAAAAAAAPh/AAAAAAAA+H8AAAAAAAD4fwAAAAAAAPh/AAAAAAAA+H8AAAAAAAA9QAAAAAAAAPh/AAAAAADAUUAAAAAAAIBDQAAAAAAAAPh/AAAAAAAA+H8AAAAAAAA3QAAAAAAAAPh/AAAAAAAA+H8AAAAAAAA1QAAAAAAAgEJAAAAAAAAANEAAAAAAAAAoQAAAAAAAACpAAAAAAAAA+H8AAAAAAAD4fwAAAAAAAPh/AAAAAAAA+H8AAAAAAAD4fwAAAAAAAPh/AAAAAAAA+H8AAAAAAAD4fwAAAAAAAPh/AAAAAAAA+H8AAAAAAOBgQAAAAAAAgEhAAAAAAAAAQEAAAAAAAAD4fwAAAAAAAFBAAAAAAAAAREAAAAAAAEBTQAAAAAAAQFhAAAAAAABAWEAAAAAAAEBVQAAAAAAAAPh/AAAAAAAAJEAAAAAAAAA7QAAAAAAAAPh/AAAAAAAAHEAAAAAAAABIQAAAAAAAgEFAAAAAAACATkAAAAAAAMBTQAAAAAAAgE9AAAAAAAAAMEAAAAAAAAD4fwAAAAAAAPh/AAAAAAAAVEAAAAAAAABbQAAAAAAAADRAAAAAAAAASkAAAAAAAIBUQAAAAAAAAElAAAAAAAAAUEAAAAAAAIBNQAAAAAAAgENAAAAAAAAAIkAAAAAAAAAwQAAAAAAAgFNAAAAAAACAQUAAAAAAAIBQQAAAAAAAgF5AAAAAAABAVkAAAAAAAIBbQAAAAAAAAPh/AAAAAAAA+H8AAAAAAABGQAAAAAAAADxAAAAAAABAUEAAAAAAAAD4fwAAAAAAADZAAAAAAACATUAAAAAAAAA3QAAAAAAAAD9AAAAAAAAARkAAAAAAAAA1QAAAAAAAACJAAAAAAAAA+H8AAAAAAIBGQAAAAAAAAGVAAAAAAABAUkAAAAAAAAD4fwAAAAAAAFNAAAAAAACAXUAAAAAAAABVQAAAAAAAQFVAAAAAAAAAWEAAAAAAAIBTQAAAAAAAQFJAAAAAAADAVkAAAAAAAIBHQAAAAAAAAEBAAAAAAAAANEAAAAAAAAA3QAAAAAAAADVAAAAAAAAAOEAAAAAAAABGQAAAAAAAADVAAAAAAAAAPEAAAAAAAAAiQAAAAAAAACpAAAAAAAAAR0AAAAAAAAAyQAAAAAAAACpAAAAAAAAAOEAAAAAAAAAwQAAAAAAAACpAAAAAAAAAN0AAAAAAAABCQAAAAAAAABxAAAAAAAAALEAAAAAAAAA+QAAAAAAAAPh/AAAAAAAALEAAAAAAAAAyQAAAAAAAADRA\",\"dtype\":\"float64\",\"shape\":[153]},\"y\":{\"__ndarray__\":\"mpmZmZmZHUAAAAAAAAAgQDMzMzMzMylAAAAAAAAAJ0CamZmZmZksQM3MzMzMzC1AMzMzMzMzIUCamZmZmZkrQJqZmZmZGTRAMzMzMzMzIUCamZmZmZkbQGZmZmZmZiNAZmZmZmZmIkDNzMzMzMwlQGZmZmZmZipAAAAAAAAAJ0AAAAAAAAAoQGZmZmZmZjJAAAAAAAAAJ0BmZmZmZmYjQGZmZmZmZiNAmpmZmZmZMEBmZmZmZmYjQAAAAAAAAChAmpmZmZmZMEDNzMzMzMwtQAAAAAAAACBAAAAAAAAAKEDNzMzMzMwtQM3MzMzMzBZAmpmZmZmZHUAzMzMzMzMhQGZmZmZmZiNAmpmZmZkZMEBmZmZmZmYiQDMzMzMzMyFAmpmZmZmZLEBmZmZmZmYjQJqZmZmZmRtAmpmZmZmZK0AAAAAAAAAnQM3MzMzMzCVAZmZmZmZmIkAAAAAAAAAgQJqZmZmZmStAAAAAAAAAJ0DNzMzMzMwtQDMzMzMzszRAZmZmZmZmIkAAAAAAAAAnQJqZmZmZmSRAMzMzMzMzGUAzMzMzMzP7P2ZmZmZmZhJAMzMzMzMzGUAAAAAAAAAgQAAAAAAAACBAmpmZmZmZJEAAAAAAAAAnQM3MzMzMzC1AAAAAAAAAIEBmZmZmZmYQQGZmZmZmZiJAZmZmZmZmIkDNzMzMzMwlQGZmZmZmZhJAzczMzMzMJUBmZmZmZmYUQDMzMzMzMxlAzczMzMzMFkCamZmZmZkdQDMzMzMzMyFAmpmZmZmZLEDNzMzMzMwtQM3MzMzMzC1AmpmZmZmZLECamZmZmZkbQJqZmZmZmSRAMzMzMzMzGUBmZmZmZmYUQAAAAAAAACdAmpmZmZmZG0BmZmZmZmYjQAAAAAAAACdAMzMzMzMzIUAAAAAAAAAgQDMzMzMzMyFAAAAAAAAAKECamZmZmZkdQJqZmZmZmR1AmpmZmZmZHUBmZmZmZmYiQJqZmZmZmRtAmpmZmZmZK0CamZmZmZkdQJqZmZmZmRtAmpmZmZmZHUBmZmZmZmYSQAAAAAAAABBAmpmZmZmZJEAAAAAAAAAgQDMzMzMzMyFAAAAAAAAAJ0AAAAAAAAAnQAAAAAAAACdAZmZmZmZmI0AAAAAAAAAnQJqZmZmZmSRAMzMzMzMzGUCamZmZmZkdQM3MzMzMzCVAmpmZmZmZJEAAAAAAAAAvQJqZmZmZmSxAMzMzMzMzKUBmZmZmZmYjQDMzMzMzMwtAAAAAAAAAIEDNzMzMzMwWQGZmZmZmZiNAZmZmZmZmAkAzMzMzMzMZQDMzMzMzMxlAmpmZmZmZG0BmZmZmZmYUQGZmZmZmZgZAZmZmZmZmEkCamZmZmZkdQAAAAAAAAC9AzczMzMzMJUCamZmZmZkkQM3MzMzMzCVAZmZmZmZmI0DNzMzMzMwtQAAAAAAAAC9AMzMzMzMzGUDNzMzMzMwlQAAAAAAAACdAmpmZmZmZG0CamZmZmZkrQJqZmZmZmSRAmpmZmZmZJEAAAAAAAAAgQDMzMzMzMylAZmZmZmZmIkCamZmZmZkkQJqZmZmZmSRAmpmZmZmZMECamZmZmZkbQGZmZmZmZipAmpmZmZmZLEAAAAAAAAAgQAAAAAAAACdA\",\"dtype\":\"float64\",\"shape\":[153]}},\"selected\":{\"id\":\"1049\",\"type\":\"Selection\"},\"selection_policy\":{\"id\":\"1048\",\"type\":\"UnionRenderers\"}},\"id\":\"1034\",\"type\":\"ColumnDataSource\"},{\"attributes\":{\"fill_alpha\":{\"value\":0.1},\"fill_color\":{\"value\":\"#1f77b4\"},\"line_alpha\":{\"value\":0.1},\"line_color\":{\"value\":\"#1f77b4\"},\"x\":{\"field\":\"x\"},\"y\":{\"field\":\"y\"}},\"id\":\"1036\",\"type\":\"Circle\"},{\"attributes\":{\"data_source\":{\"id\":\"1034\",\"type\":\"ColumnDataSource\"},\"glyph\":{\"id\":\"1035\",\"type\":\"Circle\"},\"hover_glyph\":null,\"muted_glyph\":null,\"nonselection_glyph\":{\"id\":\"1036\",\"type\":\"Circle\"},\"selection_glyph\":null,\"view\":{\"id\":\"1038\",\"type\":\"CDSView\"}},\"id\":\"1037\",\"type\":\"GlyphRenderer\"},{\"attributes\":{},\"id\":\"1017\",\"type\":\"BasicTicker\"},{\"attributes\":{\"callback\":null,\"end\":20.7},\"id\":\"1005\",\"type\":\"Range1d\"},{\"attributes\":{\"source\":{\"id\":\"1034\",\"type\":\"ColumnDataSource\"}},\"id\":\"1038\",\"type\":\"CDSView\"},{\"attributes\":{},\"id\":\"1007\",\"type\":\"LinearScale\"},{\"attributes\":{},\"id\":\"1009\",\"type\":\"LinearScale\"},{\"attributes\":{\"text\":\"\"},\"id\":\"1040\",\"type\":\"Title\"},{\"attributes\":{\"formatter\":{\"id\":\"1041\",\"type\":\"BasicTickFormatter\"},\"ticker\":{\"id\":\"1012\",\"type\":\"BasicTicker\"}},\"id\":\"1011\",\"type\":\"LinearAxis\"},{\"attributes\":{},\"id\":\"1041\",\"type\":\"BasicTickFormatter\"},{\"attributes\":{},\"id\":\"1012\",\"type\":\"BasicTicker\"},{\"attributes\":{},\"id\":\"1043\",\"type\":\"BasicTickFormatter\"},{\"attributes\":{\"ticker\":{\"id\":\"1012\",\"type\":\"BasicTicker\"}},\"id\":\"1015\",\"type\":\"Grid\"},{\"attributes\":{\"bottom_units\":\"screen\",\"fill_alpha\":{\"value\":0.5},\"fill_color\":{\"value\":\"lightgrey\"},\"left_units\":\"screen\",\"level\":\"overlay\",\"line_alpha\":{\"value\":1.0},\"line_color\":{\"value\":\"black\"},\"line_dash\":[4,4],\"line_width\":{\"value\":2},\"render_mode\":\"css\",\"right_units\":\"screen\",\"top_units\":\"screen\"},\"id\":\"1045\",\"type\":\"BoxAnnotation\"},{\"attributes\":{\"formatter\":{\"id\":\"1043\",\"type\":\"BasicTickFormatter\"},\"ticker\":{\"id\":\"1017\",\"type\":\"BasicTicker\"}},\"id\":\"1016\",\"type\":\"LinearAxis\"}],\"root_ids\":[\"1002\"]},\"title\":\"Bokeh Application\",\"version\":\"1.4.0\"}};\n",
       "  var render_items = [{\"docid\":\"b68d1100-3fbe-4650-ad2c-15750345fc1c\",\"roots\":{\"1002\":\"20a48a6c-fc57-429a-beed-ec80d9b7443e\"}}];\n",
       "  root.Bokeh.embed.embed_items_notebook(docs_json, render_items);\n",
       "\n",
       "  }\n",
       "  if (root.Bokeh !== undefined) {\n",
       "    embed_document(root);\n",
       "  } else {\n",
       "    var attempts = 0;\n",
       "    var timer = setInterval(function(root) {\n",
       "      if (root.Bokeh !== undefined) {\n",
       "        clearInterval(timer);\n",
       "        embed_document(root);\n",
       "      } else {\n",
       "        attempts++;\n",
       "        if (attempts > 100) {\n",
       "          clearInterval(timer);\n",
       "          console.log(\"Bokeh: ERROR: Unable to run BokehJS code because BokehJS library is missing\");\n",
       "        }\n",
       "      }\n",
       "    }, 10, root)\n",
       "  }\n",
       "})(window);"
      ],
      "application/vnd.bokehjs_exec.v0+json": ""
     },
     "metadata": {
      "application/vnd.bokehjs_exec.v0+json": {
       "id": "1002"
      }
     },
     "output_type": "display_data"
    }
   ],
   "source": [
    "import pandas as pd\n",
    "from bokeh.plotting import figure, output_file, show\n",
    "from bokeh.io import output_notebook\n",
    "output_notebook()\n",
    "\n",
    "# Load some data\n",
    "airq = pd.read_csv('../Data/airquality.csv')\n",
    "\n",
    "# Select tools\n",
    "TOOLS=\"crosshair,wheel_zoom,box_zoom,reset,box_select,lasso_select\"\n",
    "\n",
    "# create a new plot with the tools above, and explicit ranges\n",
    "p = figure(tools=TOOLS, x_range=(0,airq.Ozone.max()), y_range=(0,airq.Wind.max()))\n",
    "\n",
    "# add a circle renderer with vecorized colors and sizes\n",
    "p.circle(airq.Ozone,airq.Wind , fill_alpha=0.6, line_color=None)\n",
    "\n",
    "# show the results\n",
    "show(p)"
   ]
  },
  {
   "cell_type": "markdown",
   "metadata": {},
   "source": [
    "Plotting in **pandas** currently uses the **matplotlib** library. There is current development to integrate **bokeh** plots into the **pandas** library."
   ]
  },
  {
   "cell_type": "markdown",
   "metadata": {},
   "source": [
    "### Yellowbrick Example "
   ]
  },
  {
   "cell_type": "markdown",
   "metadata": {},
   "source": [
    "We can use **yellowbrick** with the iris data. If we did not know there were three flowers in our dataset (Setosa, Virginica and Versicolor), the Elbow method helps show how many clusters we need to model with.\n",
    "Here, we test using 1, 2, 3, 4, 5 and 6 clusters:\n"
   ]
  },
  {
   "cell_type": "code",
   "execution_count": 3,
   "metadata": {},
   "outputs": [
    {
     "data": {
      "image/png": "[encoded data removed]",
      "text/plain": [
       "<Figure size 576x396 with 2 Axes>"
      ]
     },
     "metadata": {},
     "output_type": "display_data"
    },
    {
     "data": {
      "text/plain": [
       "<matplotlib.axes._subplots.AxesSubplot at 0x241c0efd390>"
      ]
     },
     "execution_count": 3,
     "metadata": {},
     "output_type": "execute_result"
    }
   ],
   "source": [
    "%matplotlib inline\n",
    "\n",
    "from sklearn import datasets\n",
    "\n",
    "iris = datasets.load_iris()\n",
    "X, y = iris.data, iris.target\n",
    "\n",
    "from sklearn.cluster import MiniBatchKMeans\n",
    "from yellowbrick.cluster import KElbowVisualizer\n",
    "\n",
    "# Instantiate the clustering model and visualizer\n",
    "visualizer = KElbowVisualizer(MiniBatchKMeans(), k=(1,6))\n",
    "\n",
    "# Fit the training data to the visualizer\n",
    "visualizer.fit(X)\n",
    "\n",
    "# Draw/show/poof the data\n",
    "visualizer.poof()"
   ]
  },
  {
   "cell_type": "markdown",
   "metadata": {},
   "source": [
    "## Folium Example"
   ]
  },
  {
   "cell_type": "markdown",
   "metadata": {},
   "source": [
    "This example is from <https://github.com/python-visualization/folium/blob/master/examples/Heatmap.ipynb>"
   ]
  },
  {
   "cell_type": "code",
   "execution_count": 4,
   "metadata": {},
   "outputs": [],
   "source": [
    "import folium\n",
    "import numpy as np\n",
    "import os"
   ]
  },
  {
   "cell_type": "code",
   "execution_count": 5,
   "metadata": {},
   "outputs": [
    {
     "name": "stdout",
     "output_type": "stream",
     "text": [
      "0.10.1\n"
     ]
    }
   ],
   "source": [
    "print(folium.__version__)"
   ]
  },
  {
   "cell_type": "code",
   "execution_count": 6,
   "metadata": {},
   "outputs": [],
   "source": [
    "data = (\n",
    "    np.random.normal(size=(100, 3)) *\n",
    "    np.array([[1, 1, 1]]) +\n",
    "    np.array([[48, 5, 1]])\n",
    ").tolist()"
   ]
  },
  {
   "cell_type": "code",
   "execution_count": 7,
   "metadata": {},
   "outputs": [
    {
     "data": {
      "text/html": [
       "<div style=\"width:100%;\"><div style=\"position:relative;width:100%;height:0;padding-bottom:60%;\"><iframe src=\"data:text/html;charset=utf-8;base64,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\" style=\"position:absolute;width:100%;height:100%;left:0;top:0;border:none !important;\" allowfullscreen webkitallowfullscreen mozallowfullscreen></iframe></div></div>"
      ],
      "text/plain": [
       "<folium.folium.Map at 0x241c1f82518>"
      ]
     },
     "execution_count": 7,
     "metadata": {},
     "output_type": "execute_result"
    }
   ],
   "source": [
    "from folium.plugins import HeatMap\n",
    "\n",
    "m = folium.Map([48., 5.], tiles='stamentoner', zoom_start=6)\n",
    "\n",
    "HeatMap(data).add_to(m)\n",
    "\n",
    "m.save(os.path.join('../results', 'Heatmap.html'))\n",
    "\n",
    "m"
   ]
  },
  {
   "cell_type": "markdown",
   "metadata": {},
   "source": [
    "## More Modelling"
   ]
  },
  {
   "cell_type": "markdown",
   "metadata": {},
   "source": [
    "### Gensim\n",
    "\n",
    "**Gensim** is a Python library for topic modelling, document indexing and similarity retrieval with large corpora. Target audience is the natural language processing (NLP) and information retrieval (IR) community."
   ]
  },
  {
   "cell_type": "markdown",
   "metadata": {},
   "source": [
    "### PyBrain\n",
    "\n",
    "**PyBrain** is a popular package for working in Reinforcement Learning, Artificial Intelligence and Neural Networks. **PyBrain** contains algorithms for neural networks, for reinforcement learning (and the combination of the two), for unsupervised learning, and evolution."
   ]
  },
  {
   "cell_type": "markdown",
   "metadata": {},
   "source": [
    "## A few more Packages"
   ]
  },
  {
   "cell_type": "markdown",
   "metadata": {},
   "source": [
    "There are many more packages, e.g.,\n",
    "\n",
    "- Beautiful Soup (**beautifulsoup4**) - a package for working with website text (HTML, XML). Beautiful Soup is similar to the tidyverse’s **rvest**\n",
    "- **Pipenv** - a software development package aimed at streamlining development and making managing requirements easy.\n",
    "- **NLTK** - the Natural Language Toolkit is a package created to contain a rich set of natural language processing tools and make prototyping quick."
   ]
  },
  {
   "cell_type": "markdown",
   "metadata": {},
   "source": [
    "(c) Mango Solutions"
   ]
  }
 ],
 "metadata": {
  "kernelspec": {
   "display_name": "Python 3",
   "language": "python",
   "name": "python3"
  },
  "language_info": {
   "codemirror_mode": {
    "name": "ipython",
    "version": 3
   },
   "file_extension": ".py",
   "mimetype": "text/x-python",
   "name": "python",
   "nbconvert_exporter": "python",
   "pygments_lexer": "ipython3",
   "version": "3.7.3"
  }
 },
 "nbformat": 4,
 "nbformat_minor": 2
}
