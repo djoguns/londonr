{
 "cells": [
  {
   "cell_type": "markdown",
   "metadata": {},
   "source": [
    "[![londonr-banner-logo](londonr-banner.png)](https://www.londonr.org/)"
   ]
  },
  {
   "cell_type": "markdown",
   "metadata": {},
   "source": [
    "<div style = \"text-align: right\"><font size = 3 color = \"#B22222\" face = \"verdana\"><b>- LondonR - Python for R Users - </b></font></div>\n",
    "<div style = \"text-align: right\"><font><i>By 'Dayo Oguntoyinbo</i></font></div>\n",
    "<div style = \"text-align: right\"><font>16th December 2019</font></div>"
   ]
  },
  {
   "cell_type": "markdown",
   "metadata": {},
   "source": [
    "# Part F - More Packages"
   ]
  },
  {
   "cell_type": "code",
   "execution_count": null,
   "metadata": {
    "tags": [
     "skip"
    ]
   },
   "outputs": [],
   "source": [
    "# Options for all cells \n",
    "import pandas as pd\n",
    "# change display setting of pandas\n",
    "pd.set_option('display.notebook_repr_html', False)\n",
    "# Setting the graphics\n",
    "%matplotlib inline\n",
    "# suppress all warnings (since anova gives a warning)\n",
    "import warnings\n",
    "warnings.filterwarnings(\"ignore\")"
   ]
  },
  {
   "cell_type": "markdown",
   "metadata": {},
   "source": [
    "# Taking Python further"
   ]
  },
  {
   "cell_type": "markdown",
   "metadata": {},
   "source": [
    "Like R, Python’s strength comes from the range of packages that are being developed by the open source community."
   ]
  },
  {
   "cell_type": "markdown",
   "metadata": {},
   "source": [
    "So far, we have introduced the popular packages for data science. All of these are part of the standard distribution installed with Anaconda. Below are examples of more great packages for visualisation, modelling and general data science."
   ]
  },
  {
   "cell_type": "markdown",
   "metadata": {},
   "source": [
    "**Tip**\n",
    "\n",
    "Additional packages can be installed from the command line via `pip install <package name>`."
   ]
  },
  {
   "cell_type": "markdown",
   "metadata": {},
   "source": [
    "## More Visualisation"
   ]
  },
  {
   "cell_type": "markdown",
   "metadata": {},
   "source": [
    "Python has a lot of packages created for data visualisation. **Seaborn** creates flexible graphics for plotting data but it doesn’t follow The Grammar of Graphics that R users are familiar with from **ggplot2**. **Seaborn** also has a limited number of diagnostic plots for visualising our models. To overcome these, we could use:"
   ]
  },
  {
   "cell_type": "markdown",
   "metadata": {},
   "source": [
    "- **ggplot** - a plotting system for Python based on **ggplot2**\n",
    "- **bokeh** - a package native to Python and using The Grammar of Graphics. You can also use it to create interactive plots in either JSON or HTML for web applications.\n",
    "- **Yellowbrick** - a package extending on **scikit-learn** for creating diagnostic plots to help during model selection."
   ]
  },
  {
   "cell_type": "markdown",
   "metadata": {},
   "source": [
    "### Bokeh Example"
   ]
  },
  {
   "cell_type": "markdown",
   "metadata": {},
   "source": [
    "Below is an example showing how to create an interactive plot in a notebook using **bokeh**:"
   ]
  },
  {
   "cell_type": "code",
   "execution_count": 1,
   "metadata": {},
   "outputs": [
    {
     "data": {
      "text/html": [
       "\n",
       "    <div class=\"bk-root\">\n",
       "        <a href=\"https://bokeh.pydata.org\" target=\"_blank\" class=\"bk-logo bk-logo-small bk-logo-notebook\"></a>\n",
       "        <span id=\"e993b1fb-55f6-479a-8a60-a49f865110d2\">Loading BokehJS ...</span>\n",
       "    </div>"
      ]
     },
     "metadata": {},
     "output_type": "display_data"
    },
    {
     "data": {
      "application/javascript": [
       "\n",
       "(function(root) {\n",
       "  function now() {\n",
       "    return new Date();\n",
       "  }\n",
       "\n",
       "  var force = true;\n",
       "\n",
       "  if (typeof (root._bokeh_onload_callbacks) === \"undefined\" || force === true) {\n",
       "    root._bokeh_onload_callbacks = [];\n",
       "    root._bokeh_is_loading = undefined;\n",
       "  }\n",
       "\n",
       "  var JS_MIME_TYPE = 'application/javascript';\n",
       "  var HTML_MIME_TYPE = 'text/html';\n",
       "  var EXEC_MIME_TYPE = 'application/vnd.bokehjs_exec.v0+json';\n",
       "  var CLASS_NAME = 'output_bokeh rendered_html';\n",
       "\n",
       "  /**\n",
       "   * Render data to the DOM node\n",
       "   */\n",
       "  function render(props, node) {\n",
       "    var script = document.createElement(\"script\");\n",
       "    node.appendChild(script);\n",
       "  }\n",
       "\n",
       "  /**\n",
       "   * Handle when an output is cleared or removed\n",
       "   */\n",
       "  function handleClearOutput(event, handle) {\n",
       "    var cell = handle.cell;\n",
       "\n",
       "    var id = cell.output_area._bokeh_element_id;\n",
       "    var server_id = cell.output_area._bokeh_server_id;\n",
       "    // Clean up Bokeh references\n",
       "    if (id != null && id in Bokeh.index) {\n",
       "      Bokeh.index[id].model.document.clear();\n",
       "      delete Bokeh.index[id];\n",
       "    }\n",
       "\n",
       "    if (server_id !== undefined) {\n",
       "      // Clean up Bokeh references\n",
       "      var cmd = \"from bokeh.io.state import curstate; print(curstate().uuid_to_server['\" + server_id + \"'].get_sessions()[0].document.roots[0]._id)\";\n",
       "      cell.notebook.kernel.execute(cmd, {\n",
       "        iopub: {\n",
       "          output: function(msg) {\n",
       "            var id = msg.content.text.trim();\n",
       "            if (id in Bokeh.index) {\n",
       "              Bokeh.index[id].model.document.clear();\n",
       "              delete Bokeh.index[id];\n",
       "            }\n",
       "          }\n",
       "        }\n",
       "      });\n",
       "      // Destroy server and session\n",
       "      var cmd = \"import bokeh.io.notebook as ion; ion.destroy_server('\" + server_id + \"')\";\n",
       "      cell.notebook.kernel.execute(cmd);\n",
       "    }\n",
       "  }\n",
       "\n",
       "  /**\n",
       "   * Handle when a new output is added\n",
       "   */\n",
       "  function handleAddOutput(event, handle) {\n",
       "    var output_area = handle.output_area;\n",
       "    var output = handle.output;\n",
       "\n",
       "    // limit handleAddOutput to display_data with EXEC_MIME_TYPE content only\n",
       "    if ((output.output_type != \"display_data\") || (!output.data.hasOwnProperty(EXEC_MIME_TYPE))) {\n",
       "      return\n",
       "    }\n",
       "\n",
       "    var toinsert = output_area.element.find(\".\" + CLASS_NAME.split(' ')[0]);\n",
       "\n",
       "    if (output.metadata[EXEC_MIME_TYPE][\"id\"] !== undefined) {\n",
       "      toinsert[toinsert.length - 1].firstChild.textContent = output.data[JS_MIME_TYPE];\n",
       "      // store reference to embed id on output_area\n",
       "      output_area._bokeh_element_id = output.metadata[EXEC_MIME_TYPE][\"id\"];\n",
       "    }\n",
       "    if (output.metadata[EXEC_MIME_TYPE][\"server_id\"] !== undefined) {\n",
       "      var bk_div = document.createElement(\"div\");\n",
       "      bk_div.innerHTML = output.data[HTML_MIME_TYPE];\n",
       "      var script_attrs = bk_div.children[0].attributes;\n",
       "      for (var i = 0; i < script_attrs.length; i++) {\n",
       "        toinsert[toinsert.length - 1].firstChild.setAttribute(script_attrs[i].name, script_attrs[i].value);\n",
       "      }\n",
       "      // store reference to server id on output_area\n",
       "      output_area._bokeh_server_id = output.metadata[EXEC_MIME_TYPE][\"server_id\"];\n",
       "    }\n",
       "  }\n",
       "\n",
       "  function register_renderer(events, OutputArea) {\n",
       "\n",
       "    function append_mime(data, metadata, element) {\n",
       "      // create a DOM node to render to\n",
       "      var toinsert = this.create_output_subarea(\n",
       "        metadata,\n",
       "        CLASS_NAME,\n",
       "        EXEC_MIME_TYPE\n",
       "      );\n",
       "      this.keyboard_manager.register_events(toinsert);\n",
       "      // Render to node\n",
       "      var props = {data: data, metadata: metadata[EXEC_MIME_TYPE]};\n",
       "      render(props, toinsert[toinsert.length - 1]);\n",
       "      element.append(toinsert);\n",
       "      return toinsert\n",
       "    }\n",
       "\n",
       "    /* Handle when an output is cleared or removed */\n",
       "    events.on('clear_output.CodeCell', handleClearOutput);\n",
       "    events.on('delete.Cell', handleClearOutput);\n",
       "\n",
       "    /* Handle when a new output is added */\n",
       "    events.on('output_added.OutputArea', handleAddOutput);\n",
       "\n",
       "    /**\n",
       "     * Register the mime type and append_mime function with output_area\n",
       "     */\n",
       "    OutputArea.prototype.register_mime_type(EXEC_MIME_TYPE, append_mime, {\n",
       "      /* Is output safe? */\n",
       "      safe: true,\n",
       "      /* Index of renderer in `output_area.display_order` */\n",
       "      index: 0\n",
       "    });\n",
       "  }\n",
       "\n",
       "  // register the mime type if in Jupyter Notebook environment and previously unregistered\n",
       "  if (root.Jupyter !== undefined) {\n",
       "    var events = require('base/js/events');\n",
       "    var OutputArea = require('notebook/js/outputarea').OutputArea;\n",
       "\n",
       "    if (OutputArea.prototype.mime_types().indexOf(EXEC_MIME_TYPE) == -1) {\n",
       "      register_renderer(events, OutputArea);\n",
       "    }\n",
       "  }\n",
       "\n",
       "  \n",
       "  if (typeof (root._bokeh_timeout) === \"undefined\" || force === true) {\n",
       "    root._bokeh_timeout = Date.now() + 5000;\n",
       "    root._bokeh_failed_load = false;\n",
       "  }\n",
       "\n",
       "  var NB_LOAD_WARNING = {'data': {'text/html':\n",
       "     \"<div style='background-color: #fdd'>\\n\"+\n",
       "     \"<p>\\n\"+\n",
       "     \"BokehJS does not appear to have successfully loaded. If loading BokehJS from CDN, this \\n\"+\n",
       "     \"may be due to a slow or bad network connection. Possible fixes:\\n\"+\n",
       "     \"</p>\\n\"+\n",
       "     \"<ul>\\n\"+\n",
       "     \"<li>re-rerun `output_notebook()` to attempt to load from CDN again, or</li>\\n\"+\n",
       "     \"<li>use INLINE resources instead, as so:</li>\\n\"+\n",
       "     \"</ul>\\n\"+\n",
       "     \"<code>\\n\"+\n",
       "     \"from bokeh.resources import INLINE\\n\"+\n",
       "     \"output_notebook(resources=INLINE)\\n\"+\n",
       "     \"</code>\\n\"+\n",
       "     \"</div>\"}};\n",
       "\n",
       "  function display_loaded() {\n",
       "    var el = document.getElementById(\"e993b1fb-55f6-479a-8a60-a49f865110d2\");\n",
       "    if (el != null) {\n",
       "      el.textContent = \"BokehJS is loading...\";\n",
       "    }\n",
       "    if (root.Bokeh !== undefined) {\n",
       "      if (el != null) {\n",
       "        el.textContent = \"BokehJS \" + root.Bokeh.version + \" successfully loaded.\";\n",
       "      }\n",
       "    } else if (Date.now() < root._bokeh_timeout) {\n",
       "      setTimeout(display_loaded, 100)\n",
       "    }\n",
       "  }\n",
       "\n",
       "\n",
       "  function run_callbacks() {\n",
       "    try {\n",
       "      root._bokeh_onload_callbacks.forEach(function(callback) { callback() });\n",
       "    }\n",
       "    finally {\n",
       "      delete root._bokeh_onload_callbacks\n",
       "    }\n",
       "    console.info(\"Bokeh: all callbacks have finished\");\n",
       "  }\n",
       "\n",
       "  function load_libs(js_urls, callback) {\n",
       "    root._bokeh_onload_callbacks.push(callback);\n",
       "    if (root._bokeh_is_loading > 0) {\n",
       "      console.log(\"Bokeh: BokehJS is being loaded, scheduling callback at\", now());\n",
       "      return null;\n",
       "    }\n",
       "    if (js_urls == null || js_urls.length === 0) {\n",
       "      run_callbacks();\n",
       "      return null;\n",
       "    }\n",
       "    console.log(\"Bokeh: BokehJS not loaded, scheduling load and callback at\", now());\n",
       "    root._bokeh_is_loading = js_urls.length;\n",
       "    for (var i = 0; i < js_urls.length; i++) {\n",
       "      var url = js_urls[i];\n",
       "      var s = document.createElement('script');\n",
       "      s.src = url;\n",
       "      s.async = false;\n",
       "      s.onreadystatechange = s.onload = function() {\n",
       "        root._bokeh_is_loading--;\n",
       "        if (root._bokeh_is_loading === 0) {\n",
       "          console.log(\"Bokeh: all BokehJS libraries loaded\");\n",
       "          run_callbacks()\n",
       "        }\n",
       "      };\n",
       "      s.onerror = function() {\n",
       "        console.warn(\"failed to load library \" + url);\n",
       "      };\n",
       "      console.log(\"Bokeh: injecting script tag for BokehJS library: \", url);\n",
       "      document.getElementsByTagName(\"head\")[0].appendChild(s);\n",
       "    }\n",
       "  };var element = document.getElementById(\"e993b1fb-55f6-479a-8a60-a49f865110d2\");\n",
       "  if (element == null) {\n",
       "    console.log(\"Bokeh: ERROR: autoload.js configured with elementid 'e993b1fb-55f6-479a-8a60-a49f865110d2' but no matching script tag was found. \")\n",
       "    return false;\n",
       "  }\n",
       "\n",
       "  var js_urls = [\"https://cdn.pydata.org/bokeh/release/bokeh-0.13.0.min.js\", \"https://cdn.pydata.org/bokeh/release/bokeh-widgets-0.13.0.min.js\", \"https://cdn.pydata.org/bokeh/release/bokeh-tables-0.13.0.min.js\", \"https://cdn.pydata.org/bokeh/release/bokeh-gl-0.13.0.min.js\"];\n",
       "\n",
       "  var inline_js = [\n",
       "    function(Bokeh) {\n",
       "      Bokeh.set_log_level(\"info\");\n",
       "    },\n",
       "    \n",
       "    function(Bokeh) {\n",
       "      \n",
       "    },\n",
       "    function(Bokeh) {\n",
       "      console.log(\"Bokeh: injecting CSS: https://cdn.pydata.org/bokeh/release/bokeh-0.13.0.min.css\");\n",
       "      Bokeh.embed.inject_css(\"https://cdn.pydata.org/bokeh/release/bokeh-0.13.0.min.css\");\n",
       "      console.log(\"Bokeh: injecting CSS: https://cdn.pydata.org/bokeh/release/bokeh-widgets-0.13.0.min.css\");\n",
       "      Bokeh.embed.inject_css(\"https://cdn.pydata.org/bokeh/release/bokeh-widgets-0.13.0.min.css\");\n",
       "      console.log(\"Bokeh: injecting CSS: https://cdn.pydata.org/bokeh/release/bokeh-tables-0.13.0.min.css\");\n",
       "      Bokeh.embed.inject_css(\"https://cdn.pydata.org/bokeh/release/bokeh-tables-0.13.0.min.css\");\n",
       "    }\n",
       "  ];\n",
       "\n",
       "  function run_inline_js() {\n",
       "    \n",
       "    if ((root.Bokeh !== undefined) || (force === true)) {\n",
       "      for (var i = 0; i < inline_js.length; i++) {\n",
       "        inline_js[i].call(root, root.Bokeh);\n",
       "      }if (force === true) {\n",
       "        display_loaded();\n",
       "      }} else if (Date.now() < root._bokeh_timeout) {\n",
       "      setTimeout(run_inline_js, 100);\n",
       "    } else if (!root._bokeh_failed_load) {\n",
       "      console.log(\"Bokeh: BokehJS failed to load within specified timeout.\");\n",
       "      root._bokeh_failed_load = true;\n",
       "    } else if (force !== true) {\n",
       "      var cell = $(document.getElementById(\"e993b1fb-55f6-479a-8a60-a49f865110d2\")).parents('.cell').data().cell;\n",
       "      cell.output_area.append_execute_result(NB_LOAD_WARNING)\n",
       "    }\n",
       "\n",
       "  }\n",
       "\n",
       "  if (root._bokeh_is_loading === 0) {\n",
       "    console.log(\"Bokeh: BokehJS loaded, going straight to plotting\");\n",
       "    run_inline_js();\n",
       "  } else {\n",
       "    load_libs(js_urls, function() {\n",
       "      console.log(\"Bokeh: BokehJS plotting callback run at\", now());\n",
       "      run_inline_js();\n",
       "    });\n",
       "  }\n",
       "}(window));"
      ],
      "application/vnd.bokehjs_load.v0+json": "\n(function(root) {\n  function now() {\n    return new Date();\n  }\n\n  var force = true;\n\n  if (typeof (root._bokeh_onload_callbacks) === \"undefined\" || force === true) {\n    root._bokeh_onload_callbacks = [];\n    root._bokeh_is_loading = undefined;\n  }\n\n  \n\n  \n  if (typeof (root._bokeh_timeout) === \"undefined\" || force === true) {\n    root._bokeh_timeout = Date.now() + 5000;\n    root._bokeh_failed_load = false;\n  }\n\n  var NB_LOAD_WARNING = {'data': {'text/html':\n     \"<div style='background-color: #fdd'>\\n\"+\n     \"<p>\\n\"+\n     \"BokehJS does not appear to have successfully loaded. If loading BokehJS from CDN, this \\n\"+\n     \"may be due to a slow or bad network connection. Possible fixes:\\n\"+\n     \"</p>\\n\"+\n     \"<ul>\\n\"+\n     \"<li>re-rerun `output_notebook()` to attempt to load from CDN again, or</li>\\n\"+\n     \"<li>use INLINE resources instead, as so:</li>\\n\"+\n     \"</ul>\\n\"+\n     \"<code>\\n\"+\n     \"from bokeh.resources import INLINE\\n\"+\n     \"output_notebook(resources=INLINE)\\n\"+\n     \"</code>\\n\"+\n     \"</div>\"}};\n\n  function display_loaded() {\n    var el = document.getElementById(\"e993b1fb-55f6-479a-8a60-a49f865110d2\");\n    if (el != null) {\n      el.textContent = \"BokehJS is loading...\";\n    }\n    if (root.Bokeh !== undefined) {\n      if (el != null) {\n        el.textContent = \"BokehJS \" + root.Bokeh.version + \" successfully loaded.\";\n      }\n    } else if (Date.now() < root._bokeh_timeout) {\n      setTimeout(display_loaded, 100)\n    }\n  }\n\n\n  function run_callbacks() {\n    try {\n      root._bokeh_onload_callbacks.forEach(function(callback) { callback() });\n    }\n    finally {\n      delete root._bokeh_onload_callbacks\n    }\n    console.info(\"Bokeh: all callbacks have finished\");\n  }\n\n  function load_libs(js_urls, callback) {\n    root._bokeh_onload_callbacks.push(callback);\n    if (root._bokeh_is_loading > 0) {\n      console.log(\"Bokeh: BokehJS is being loaded, scheduling callback at\", now());\n      return null;\n    }\n    if (js_urls == null || js_urls.length === 0) {\n      run_callbacks();\n      return null;\n    }\n    console.log(\"Bokeh: BokehJS not loaded, scheduling load and callback at\", now());\n    root._bokeh_is_loading = js_urls.length;\n    for (var i = 0; i < js_urls.length; i++) {\n      var url = js_urls[i];\n      var s = document.createElement('script');\n      s.src = url;\n      s.async = false;\n      s.onreadystatechange = s.onload = function() {\n        root._bokeh_is_loading--;\n        if (root._bokeh_is_loading === 0) {\n          console.log(\"Bokeh: all BokehJS libraries loaded\");\n          run_callbacks()\n        }\n      };\n      s.onerror = function() {\n        console.warn(\"failed to load library \" + url);\n      };\n      console.log(\"Bokeh: injecting script tag for BokehJS library: \", url);\n      document.getElementsByTagName(\"head\")[0].appendChild(s);\n    }\n  };var element = document.getElementById(\"e993b1fb-55f6-479a-8a60-a49f865110d2\");\n  if (element == null) {\n    console.log(\"Bokeh: ERROR: autoload.js configured with elementid 'e993b1fb-55f6-479a-8a60-a49f865110d2' but no matching script tag was found. \")\n    return false;\n  }\n\n  var js_urls = [\"https://cdn.pydata.org/bokeh/release/bokeh-0.13.0.min.js\", \"https://cdn.pydata.org/bokeh/release/bokeh-widgets-0.13.0.min.js\", \"https://cdn.pydata.org/bokeh/release/bokeh-tables-0.13.0.min.js\", \"https://cdn.pydata.org/bokeh/release/bokeh-gl-0.13.0.min.js\"];\n\n  var inline_js = [\n    function(Bokeh) {\n      Bokeh.set_log_level(\"info\");\n    },\n    \n    function(Bokeh) {\n      \n    },\n    function(Bokeh) {\n      console.log(\"Bokeh: injecting CSS: https://cdn.pydata.org/bokeh/release/bokeh-0.13.0.min.css\");\n      Bokeh.embed.inject_css(\"https://cdn.pydata.org/bokeh/release/bokeh-0.13.0.min.css\");\n      console.log(\"Bokeh: injecting CSS: https://cdn.pydata.org/bokeh/release/bokeh-widgets-0.13.0.min.css\");\n      Bokeh.embed.inject_css(\"https://cdn.pydata.org/bokeh/release/bokeh-widgets-0.13.0.min.css\");\n      console.log(\"Bokeh: injecting CSS: https://cdn.pydata.org/bokeh/release/bokeh-tables-0.13.0.min.css\");\n      Bokeh.embed.inject_css(\"https://cdn.pydata.org/bokeh/release/bokeh-tables-0.13.0.min.css\");\n    }\n  ];\n\n  function run_inline_js() {\n    \n    if ((root.Bokeh !== undefined) || (force === true)) {\n      for (var i = 0; i < inline_js.length; i++) {\n        inline_js[i].call(root, root.Bokeh);\n      }if (force === true) {\n        display_loaded();\n      }} else if (Date.now() < root._bokeh_timeout) {\n      setTimeout(run_inline_js, 100);\n    } else if (!root._bokeh_failed_load) {\n      console.log(\"Bokeh: BokehJS failed to load within specified timeout.\");\n      root._bokeh_failed_load = true;\n    } else if (force !== true) {\n      var cell = $(document.getElementById(\"e993b1fb-55f6-479a-8a60-a49f865110d2\")).parents('.cell').data().cell;\n      cell.output_area.append_execute_result(NB_LOAD_WARNING)\n    }\n\n  }\n\n  if (root._bokeh_is_loading === 0) {\n    console.log(\"Bokeh: BokehJS loaded, going straight to plotting\");\n    run_inline_js();\n  } else {\n    load_libs(js_urls, function() {\n      console.log(\"Bokeh: BokehJS plotting callback run at\", now());\n      run_inline_js();\n    });\n  }\n}(window));"
     },
     "metadata": {},
     "output_type": "display_data"
    },
    {
     "data": {
      "text/html": [
       "\n",
       "\n",
       "\n",
       "\n",
       "\n",
       "\n",
       "  <div class=\"bk-root\" id=\"2fbe0fef-824a-44a3-bc10-ed3b9493be07\"></div>\n"
      ]
     },
     "metadata": {},
     "output_type": "display_data"
    },
    {
     "data": {
      "application/javascript": [
       "(function(root) {\n",
       "  function embed_document(root) {\n",
       "    \n",
       "  var docs_json = {\"f53f3a3a-be3d-4888-bc9c-4c7e56497b16\":{\"roots\":{\"references\":[{\"attributes\":{\"bottom_units\":\"screen\",\"fill_alpha\":{\"value\":0.5},\"fill_color\":{\"value\":\"lightgrey\"},\"left_units\":\"screen\",\"level\":\"overlay\",\"line_alpha\":{\"value\":1.0},\"line_color\":{\"value\":\"black\"},\"line_dash\":[4,4],\"line_width\":{\"value\":2},\"plot\":null,\"render_mode\":\"css\",\"right_units\":\"screen\",\"top_units\":\"screen\"},\"id\":\"991fb246-1734-4da5-908b-69877b587dfd\",\"type\":\"BoxAnnotation\"},{\"attributes\":{},\"id\":\"0ce33d70-3744-49cf-abf0-ff4dc26211b2\",\"type\":\"LinearScale\"},{\"attributes\":{},\"id\":\"b272d479-8a69-492e-aeee-2129a5484d2b\",\"type\":\"ResetTool\"},{\"attributes\":{\"callback\":null,\"overlay\":{\"id\":\"a77da5eb-e2d8-4d2e-b834-6df4d59f750c\",\"type\":\"BoxAnnotation\"}},\"id\":\"53bc94b5-779a-48a9-a4f6-43840c132b6f\",\"type\":\"BoxSelectTool\"},{\"attributes\":{\"callback\":null,\"overlay\":{\"id\":\"8f8565b0-b7c5-46c8-8f07-9e1315ddd5ca\",\"type\":\"PolyAnnotation\"}},\"id\":\"578bb15f-7a91-4584-b66e-2fe7eea2585c\",\"type\":\"LassoSelectTool\"},{\"attributes\":{},\"id\":\"615334c0-c959-440c-a8a3-8945e2a7d3cf\",\"type\":\"LinearScale\"},{\"attributes\":{\"fill_alpha\":{\"value\":0.1},\"fill_color\":{\"value\":\"#1f77b4\"},\"line_alpha\":{\"value\":0.1},\"line_color\":{\"value\":\"#1f77b4\"},\"x\":{\"field\":\"x\"},\"y\":{\"field\":\"y\"}},\"id\":\"98c896d7-d67b-4840-8570-f24b2a2d0460\",\"type\":\"Circle\"},{\"attributes\":{\"source\":{\"id\":\"eb730804-e80b-450b-bf2f-d7181012986b\",\"type\":\"ColumnDataSource\"}},\"id\":\"09191e76-65bf-4947-98ee-30d1ac38316f\",\"type\":\"CDSView\"},{\"attributes\":{\"below\":[{\"id\":\"292d23d3-2d74-4cf1-969c-f2746f566ec4\",\"type\":\"LinearAxis\"}],\"left\":[{\"id\":\"7f10f8b2-cc18-4465-a577-850dde430a37\",\"type\":\"LinearAxis\"}],\"renderers\":[{\"id\":\"292d23d3-2d74-4cf1-969c-f2746f566ec4\",\"type\":\"LinearAxis\"},{\"id\":\"47f785cd-0324-400d-8acb-13f9356ee69f\",\"type\":\"Grid\"},{\"id\":\"7f10f8b2-cc18-4465-a577-850dde430a37\",\"type\":\"LinearAxis\"},{\"id\":\"df391af9-8563-42e3-9df9-b9fede72b547\",\"type\":\"Grid\"},{\"id\":\"991fb246-1734-4da5-908b-69877b587dfd\",\"type\":\"BoxAnnotation\"},{\"id\":\"a77da5eb-e2d8-4d2e-b834-6df4d59f750c\",\"type\":\"BoxAnnotation\"},{\"id\":\"8f8565b0-b7c5-46c8-8f07-9e1315ddd5ca\",\"type\":\"PolyAnnotation\"},{\"id\":\"3b5a9955-cc89-4dbe-a2d8-2ccfff7efbe7\",\"type\":\"GlyphRenderer\"}],\"title\":{\"id\":\"33a3c926-6e92-420b-a9ee-af274c687e48\",\"type\":\"Title\"},\"toolbar\":{\"id\":\"dcbaeb78-1a66-4912-be94-ad81d0fa14e5\",\"type\":\"Toolbar\"},\"x_range\":{\"id\":\"841b8a4d-d8bc-431e-bd5e-e855ae830420\",\"type\":\"Range1d\"},\"x_scale\":{\"id\":\"615334c0-c959-440c-a8a3-8945e2a7d3cf\",\"type\":\"LinearScale\"},\"y_range\":{\"id\":\"7b493ee8-a032-4f47-b0ec-d4b9b81478fa\",\"type\":\"Range1d\"},\"y_scale\":{\"id\":\"0ce33d70-3744-49cf-abf0-ff4dc26211b2\",\"type\":\"LinearScale\"}},\"id\":\"3150c668-fd1f-4387-bdc9-aadc212083ac\",\"subtype\":\"Figure\",\"type\":\"Plot\"},{\"attributes\":{\"plot\":null,\"text\":\"\"},\"id\":\"33a3c926-6e92-420b-a9ee-af274c687e48\",\"type\":\"Title\"},{\"attributes\":{\"bottom_units\":\"screen\",\"fill_alpha\":{\"value\":0.5},\"fill_color\":{\"value\":\"lightgrey\"},\"left_units\":\"screen\",\"level\":\"overlay\",\"line_alpha\":{\"value\":1.0},\"line_color\":{\"value\":\"black\"},\"line_dash\":[4,4],\"line_width\":{\"value\":2},\"plot\":null,\"render_mode\":\"css\",\"right_units\":\"screen\",\"top_units\":\"screen\"},\"id\":\"a77da5eb-e2d8-4d2e-b834-6df4d59f750c\",\"type\":\"BoxAnnotation\"},{\"attributes\":{\"fill_alpha\":{\"value\":0.5},\"fill_color\":{\"value\":\"lightgrey\"},\"level\":\"overlay\",\"line_alpha\":{\"value\":1.0},\"line_color\":{\"value\":\"black\"},\"line_dash\":[4,4],\"line_width\":{\"value\":2},\"plot\":null,\"xs_units\":\"screen\",\"ys_units\":\"screen\"},\"id\":\"8f8565b0-b7c5-46c8-8f07-9e1315ddd5ca\",\"type\":\"PolyAnnotation\"},{\"attributes\":{\"formatter\":{\"id\":\"f96861b1-9e62-4568-b81d-b35114a66518\",\"type\":\"BasicTickFormatter\"},\"plot\":{\"id\":\"3150c668-fd1f-4387-bdc9-aadc212083ac\",\"subtype\":\"Figure\",\"type\":\"Plot\"},\"ticker\":{\"id\":\"fc7a597a-0b86-4706-8863-2d824a914c92\",\"type\":\"BasicTicker\"}},\"id\":\"292d23d3-2d74-4cf1-969c-f2746f566ec4\",\"type\":\"LinearAxis\"},{\"attributes\":{\"data_source\":{\"id\":\"eb730804-e80b-450b-bf2f-d7181012986b\",\"type\":\"ColumnDataSource\"},\"glyph\":{\"id\":\"8df93632-c3ac-4520-8823-5de2a522e97c\",\"type\":\"Circle\"},\"hover_glyph\":null,\"muted_glyph\":null,\"nonselection_glyph\":{\"id\":\"98c896d7-d67b-4840-8570-f24b2a2d0460\",\"type\":\"Circle\"},\"selection_glyph\":null,\"view\":{\"id\":\"09191e76-65bf-4947-98ee-30d1ac38316f\",\"type\":\"CDSView\"}},\"id\":\"3b5a9955-cc89-4dbe-a2d8-2ccfff7efbe7\",\"type\":\"GlyphRenderer\"},{\"attributes\":{},\"id\":\"fc7a597a-0b86-4706-8863-2d824a914c92\",\"type\":\"BasicTicker\"},{\"attributes\":{\"callback\":null,\"end\":168.0},\"id\":\"841b8a4d-d8bc-431e-bd5e-e855ae830420\",\"type\":\"Range1d\"},{\"attributes\":{\"plot\":{\"id\":\"3150c668-fd1f-4387-bdc9-aadc212083ac\",\"subtype\":\"Figure\",\"type\":\"Plot\"},\"ticker\":{\"id\":\"fc7a597a-0b86-4706-8863-2d824a914c92\",\"type\":\"BasicTicker\"}},\"id\":\"47f785cd-0324-400d-8acb-13f9356ee69f\",\"type\":\"Grid\"},{\"attributes\":{},\"id\":\"40cefb62-b812-4614-8e09-4d9ed6db841d\",\"type\":\"BasicTickFormatter\"},{\"attributes\":{\"formatter\":{\"id\":\"40cefb62-b812-4614-8e09-4d9ed6db841d\",\"type\":\"BasicTickFormatter\"},\"plot\":{\"id\":\"3150c668-fd1f-4387-bdc9-aadc212083ac\",\"subtype\":\"Figure\",\"type\":\"Plot\"},\"ticker\":{\"id\":\"eadf5f7c-54fe-4e6c-a315-2e13621ec8f9\",\"type\":\"BasicTicker\"}},\"id\":\"7f10f8b2-cc18-4465-a577-850dde430a37\",\"type\":\"LinearAxis\"},{\"attributes\":{},\"id\":\"f96861b1-9e62-4568-b81d-b35114a66518\",\"type\":\"BasicTickFormatter\"},{\"attributes\":{\"callback\":null,\"end\":20.7},\"id\":\"7b493ee8-a032-4f47-b0ec-d4b9b81478fa\",\"type\":\"Range1d\"},{\"attributes\":{},\"id\":\"eadf5f7c-54fe-4e6c-a315-2e13621ec8f9\",\"type\":\"BasicTicker\"},{\"attributes\":{},\"id\":\"e2826871-15cf-4e43-84d9-770c98ba3d48\",\"type\":\"UnionRenderers\"},{\"attributes\":{\"active_drag\":\"auto\",\"active_inspect\":\"auto\",\"active_multi\":null,\"active_scroll\":\"auto\",\"active_tap\":\"auto\",\"tools\":[{\"id\":\"6766f0cc-6630-46be-bf71-0bd5e4fac79a\",\"type\":\"CrosshairTool\"},{\"id\":\"b7051f64-19af-45af-a149-9fa810cb29d4\",\"type\":\"WheelZoomTool\"},{\"id\":\"e96d00db-65de-498b-8fcd-6b4d3fa0d28b\",\"type\":\"BoxZoomTool\"},{\"id\":\"b272d479-8a69-492e-aeee-2129a5484d2b\",\"type\":\"ResetTool\"},{\"id\":\"53bc94b5-779a-48a9-a4f6-43840c132b6f\",\"type\":\"BoxSelectTool\"},{\"id\":\"578bb15f-7a91-4584-b66e-2fe7eea2585c\",\"type\":\"LassoSelectTool\"}]},\"id\":\"dcbaeb78-1a66-4912-be94-ad81d0fa14e5\",\"type\":\"Toolbar\"},{\"attributes\":{\"dimension\":1,\"plot\":{\"id\":\"3150c668-fd1f-4387-bdc9-aadc212083ac\",\"subtype\":\"Figure\",\"type\":\"Plot\"},\"ticker\":{\"id\":\"eadf5f7c-54fe-4e6c-a315-2e13621ec8f9\",\"type\":\"BasicTicker\"}},\"id\":\"df391af9-8563-42e3-9df9-b9fede72b547\",\"type\":\"Grid\"},{\"attributes\":{},\"id\":\"b7051f64-19af-45af-a149-9fa810cb29d4\",\"type\":\"WheelZoomTool\"},{\"attributes\":{},\"id\":\"c7a441e0-ba49-4f96-8031-ede3570cf86d\",\"type\":\"Selection\"},{\"attributes\":{},\"id\":\"6766f0cc-6630-46be-bf71-0bd5e4fac79a\",\"type\":\"CrosshairTool\"},{\"attributes\":{\"callback\":null,\"data\":{\"x\":{\"__ndarray__\":\"AAAAAACAREAAAAAAAABCQAAAAAAAAChAAAAAAAAAMkAAAAAAAAD4fwAAAAAAADxAAAAAAAAAN0AAAAAAAAAzQAAAAAAAACBAAAAAAAAA+H8AAAAAAAAcQAAAAAAAADBAAAAAAAAAJkAAAAAAAAAsQAAAAAAAADJAAAAAAAAALEAAAAAAAABBQAAAAAAAABhAAAAAAAAAPkAAAAAAAAAmQAAAAAAAAPA/AAAAAAAAJkAAAAAAAAAQQAAAAAAAAEBAAAAAAAAA+H8AAAAAAAD4fwAAAAAAAPh/AAAAAAAAN0AAAAAAAIBGQAAAAAAAwFxAAAAAAACAQkAAAAAAAAD4fwAAAAAAAPh/AAAAAAAA+H8AAAAAAAD4fwAAAAAAAPh/AAAAAAAA+H8AAAAAAAA9QAAAAAAAAPh/AAAAAADAUUAAAAAAAIBDQAAAAAAAAPh/AAAAAAAA+H8AAAAAAAA3QAAAAAAAAPh/AAAAAAAA+H8AAAAAAAA1QAAAAAAAgEJAAAAAAAAANEAAAAAAAAAoQAAAAAAAACpAAAAAAAAA+H8AAAAAAAD4fwAAAAAAAPh/AAAAAAAA+H8AAAAAAAD4fwAAAAAAAPh/AAAAAAAA+H8AAAAAAAD4fwAAAAAAAPh/AAAAAAAA+H8AAAAAAOBgQAAAAAAAgEhAAAAAAAAAQEAAAAAAAAD4fwAAAAAAAFBAAAAAAAAAREAAAAAAAEBTQAAAAAAAQFhAAAAAAABAWEAAAAAAAEBVQAAAAAAAAPh/AAAAAAAAJEAAAAAAAAA7QAAAAAAAAPh/AAAAAAAAHEAAAAAAAABIQAAAAAAAgEFAAAAAAACATkAAAAAAAMBTQAAAAAAAgE9AAAAAAAAAMEAAAAAAAAD4fwAAAAAAAPh/AAAAAAAAVEAAAAAAAABbQAAAAAAAADRAAAAAAAAASkAAAAAAAIBUQAAAAAAAAElAAAAAAAAAUEAAAAAAAIBNQAAAAAAAgENAAAAAAAAAIkAAAAAAAAAwQAAAAAAAgFNAAAAAAACAQUAAAAAAAIBQQAAAAAAAgF5AAAAAAABAVkAAAAAAAIBbQAAAAAAAAPh/AAAAAAAA+H8AAAAAAABGQAAAAAAAADxAAAAAAABAUEAAAAAAAAD4fwAAAAAAADZAAAAAAACATUAAAAAAAAA3QAAAAAAAAD9AAAAAAAAARkAAAAAAAAA1QAAAAAAAACJAAAAAAAAA+H8AAAAAAIBGQAAAAAAAAGVAAAAAAABAUkAAAAAAAAD4fwAAAAAAAFNAAAAAAACAXUAAAAAAAABVQAAAAAAAQFVAAAAAAAAAWEAAAAAAAIBTQAAAAAAAQFJAAAAAAADAVkAAAAAAAIBHQAAAAAAAAEBAAAAAAAAANEAAAAAAAAA3QAAAAAAAADVAAAAAAAAAOEAAAAAAAABGQAAAAAAAADVAAAAAAAAAPEAAAAAAAAAiQAAAAAAAACpAAAAAAAAAR0AAAAAAAAAyQAAAAAAAACpAAAAAAAAAOEAAAAAAAAAwQAAAAAAAACpAAAAAAAAAN0AAAAAAAABCQAAAAAAAABxAAAAAAAAALEAAAAAAAAA+QAAAAAAAAPh/AAAAAAAALEAAAAAAAAAyQAAAAAAAADRA\",\"dtype\":\"float64\",\"shape\":[153]},\"y\":{\"__ndarray__\":\"mpmZmZmZHUAAAAAAAAAgQDMzMzMzMylAAAAAAAAAJ0CamZmZmZksQM3MzMzMzC1AMzMzMzMzIUCamZmZmZkrQJqZmZmZGTRAMzMzMzMzIUCamZmZmZkbQGZmZmZmZiNAZmZmZmZmIkDNzMzMzMwlQGZmZmZmZipAAAAAAAAAJ0AAAAAAAAAoQGZmZmZmZjJAAAAAAAAAJ0BmZmZmZmYjQGZmZmZmZiNAmpmZmZmZMEBmZmZmZmYjQAAAAAAAAChAmpmZmZmZMEDNzMzMzMwtQAAAAAAAACBAAAAAAAAAKEDNzMzMzMwtQM3MzMzMzBZAmpmZmZmZHUAzMzMzMzMhQGZmZmZmZiNAmpmZmZkZMEBmZmZmZmYiQDMzMzMzMyFAmpmZmZmZLEBmZmZmZmYjQJqZmZmZmRtAmpmZmZmZK0AAAAAAAAAnQM3MzMzMzCVAZmZmZmZmIkAAAAAAAAAgQJqZmZmZmStAAAAAAAAAJ0DNzMzMzMwtQDMzMzMzszRAZmZmZmZmIkAAAAAAAAAnQJqZmZmZmSRAMzMzMzMzGUAzMzMzMzP7P2ZmZmZmZhJAMzMzMzMzGUAAAAAAAAAgQAAAAAAAACBAmpmZmZmZJEAAAAAAAAAnQM3MzMzMzC1AAAAAAAAAIEBmZmZmZmYQQGZmZmZmZiJAZmZmZmZmIkDNzMzMzMwlQGZmZmZmZhJAzczMzMzMJUBmZmZmZmYUQDMzMzMzMxlAzczMzMzMFkCamZmZmZkdQDMzMzMzMyFAmpmZmZmZLEDNzMzMzMwtQM3MzMzMzC1AmpmZmZmZLECamZmZmZkbQJqZmZmZmSRAMzMzMzMzGUBmZmZmZmYUQAAAAAAAACdAmpmZmZmZG0BmZmZmZmYjQAAAAAAAACdAMzMzMzMzIUAAAAAAAAAgQDMzMzMzMyFAAAAAAAAAKECamZmZmZkdQJqZmZmZmR1AmpmZmZmZHUBmZmZmZmYiQJqZmZmZmRtAmpmZmZmZK0CamZmZmZkdQJqZmZmZmRtAmpmZmZmZHUBmZmZmZmYSQAAAAAAAABBAmpmZmZmZJEAAAAAAAAAgQDMzMzMzMyFAAAAAAAAAJ0AAAAAAAAAnQAAAAAAAACdAZmZmZmZmI0AAAAAAAAAnQJqZmZmZmSRAMzMzMzMzGUCamZmZmZkdQM3MzMzMzCVAmpmZmZmZJEAAAAAAAAAvQJqZmZmZmSxAMzMzMzMzKUBmZmZmZmYjQDMzMzMzMwtAAAAAAAAAIEDNzMzMzMwWQGZmZmZmZiNAZmZmZmZmAkAzMzMzMzMZQDMzMzMzMxlAmpmZmZmZG0BmZmZmZmYUQGZmZmZmZgZAZmZmZmZmEkCamZmZmZkdQAAAAAAAAC9AzczMzMzMJUCamZmZmZkkQM3MzMzMzCVAZmZmZmZmI0DNzMzMzMwtQAAAAAAAAC9AMzMzMzMzGUDNzMzMzMwlQAAAAAAAACdAmpmZmZmZG0CamZmZmZkrQJqZmZmZmSRAmpmZmZmZJEAAAAAAAAAgQDMzMzMzMylAZmZmZmZmIkCamZmZmZkkQJqZmZmZmSRAmpmZmZmZMECamZmZmZkbQGZmZmZmZipAmpmZmZmZLEAAAAAAAAAgQAAAAAAAACdA\",\"dtype\":\"float64\",\"shape\":[153]}},\"selected\":{\"id\":\"c7a441e0-ba49-4f96-8031-ede3570cf86d\",\"type\":\"Selection\"},\"selection_policy\":{\"id\":\"e2826871-15cf-4e43-84d9-770c98ba3d48\",\"type\":\"UnionRenderers\"}},\"id\":\"eb730804-e80b-450b-bf2f-d7181012986b\",\"type\":\"ColumnDataSource\"},{\"attributes\":{\"fill_alpha\":{\"value\":0.6},\"fill_color\":{\"value\":\"#1f77b4\"},\"line_color\":{\"value\":null},\"x\":{\"field\":\"x\"},\"y\":{\"field\":\"y\"}},\"id\":\"8df93632-c3ac-4520-8823-5de2a522e97c\",\"type\":\"Circle\"},{\"attributes\":{\"overlay\":{\"id\":\"991fb246-1734-4da5-908b-69877b587dfd\",\"type\":\"BoxAnnotation\"}},\"id\":\"e96d00db-65de-498b-8fcd-6b4d3fa0d28b\",\"type\":\"BoxZoomTool\"}],\"root_ids\":[\"3150c668-fd1f-4387-bdc9-aadc212083ac\"]},\"title\":\"Bokeh Application\",\"version\":\"0.13.0\"}};\n",
       "  var render_items = [{\"docid\":\"f53f3a3a-be3d-4888-bc9c-4c7e56497b16\",\"roots\":{\"3150c668-fd1f-4387-bdc9-aadc212083ac\":\"2fbe0fef-824a-44a3-bc10-ed3b9493be07\"}}];\n",
       "  root.Bokeh.embed.embed_items_notebook(docs_json, render_items);\n",
       "\n",
       "  }\n",
       "  if (root.Bokeh !== undefined) {\n",
       "    embed_document(root);\n",
       "  } else {\n",
       "    var attempts = 0;\n",
       "    var timer = setInterval(function(root) {\n",
       "      if (root.Bokeh !== undefined) {\n",
       "        embed_document(root);\n",
       "        clearInterval(timer);\n",
       "      }\n",
       "      attempts++;\n",
       "      if (attempts > 100) {\n",
       "        console.log(\"Bokeh: ERROR: Unable to run BokehJS code because BokehJS library is missing\")\n",
       "        clearInterval(timer);\n",
       "      }\n",
       "    }, 10, root)\n",
       "  }\n",
       "})(window);"
      ],
      "application/vnd.bokehjs_exec.v0+json": ""
     },
     "metadata": {
      "application/vnd.bokehjs_exec.v0+json": {
       "id": "3150c668-fd1f-4387-bdc9-aadc212083ac"
      }
     },
     "output_type": "display_data"
    }
   ],
   "source": [
    "import pandas as pd\n",
    "from bokeh.plotting import figure, output_file, show\n",
    "from bokeh.io import output_notebook\n",
    "output_notebook()\n",
    "\n",
    "# Load some data\n",
    "airq = pd.read_csv('Data/airquality.csv')\n",
    "# Select tools\n",
    "TOOLS=\"crosshair,wheel_zoom,box_zoom,reset,box_select,lasso_select\"\n",
    "\n",
    "# create a new plot with the tools above, and explicit ranges\n",
    "p = figure(tools=TOOLS, x_range=(0,airq.Ozone.max()), y_range=(0,airq.Wind.max()))\n",
    "\n",
    "# add a circle renderer with vecorized colors and sizes\n",
    "p.circle(airq.Ozone,airq.Wind , fill_alpha=0.6, line_color=None)\n",
    "\n",
    "# show the results\n",
    "show(p)"
   ]
  },
  {
   "cell_type": "markdown",
   "metadata": {},
   "source": [
    "Plotting in **pandas** currently uses the **matplotlib** library. There is current development to integrate **bokeh** plots into the **pandas** library."
   ]
  },
  {
   "cell_type": "markdown",
   "metadata": {},
   "source": [
    "### Yellowbrick Example "
   ]
  },
  {
   "cell_type": "markdown",
   "metadata": {},
   "source": [
    "We can use **yellowbrick** with the iris data. If we did not know there were three flowers in our dataset (Setosa, Virginica and Versicolor), the Elbow method helps show how many clusters we need to model with.\n",
    "Here, we test using 1, 2, 3, 4, 5 and 6 clusters:\n"
   ]
  },
  {
   "cell_type": "code",
   "execution_count": 2,
   "metadata": {},
   "outputs": [
    {
     "data": {
      "image/png": "[encoded data removed]",
      "text/plain": [
       "<Figure size 576x396 with 2 Axes>"
      ]
     },
     "metadata": {},
     "output_type": "display_data"
    }
   ],
   "source": [
    "%matplotlib inline\n",
    "from sklearn import datasets\n",
    "\n",
    "iris = datasets.load_iris()\n",
    "X, y = iris.data, iris.target\n",
    "\n",
    "from sklearn.cluster import MiniBatchKMeans\n",
    "from yellowbrick.cluster import KElbowVisualizer\n",
    "\n",
    "# Instantiate the clustering model and visualizer\n",
    "visualizer = KElbowVisualizer(MiniBatchKMeans(), k=(1,6))\n",
    "visualizer.fit(X) # Fit the training data to the visualizer\n",
    "visualizer.poof() # Draw/show/poof the data"
   ]
  },
  {
   "cell_type": "markdown",
   "metadata": {},
   "source": [
    "## More Modelling"
   ]
  },
  {
   "cell_type": "markdown",
   "metadata": {},
   "source": [
    "### Gensim\n",
    "\n",
    "**Gensim** is a Python library for topic modelling, document indexing and similarity retrieval with large corpora. Target audience is the natural language processing (NLP) and information retrieval (IR) community."
   ]
  },
  {
   "cell_type": "markdown",
   "metadata": {},
   "source": [
    "### PyBrain\n",
    "\n",
    "**PyBrain** is a popular package for working in Reinforcement Learning, Artificial Intelligence and Neural Networks. **PyBrain** contains algorithms for neural networks, for reinforcement learning (and the combination of the two), for unsupervised learning, and evolution."
   ]
  },
  {
   "cell_type": "markdown",
   "metadata": {},
   "source": [
    "## A few more Packages"
   ]
  },
  {
   "cell_type": "markdown",
   "metadata": {},
   "source": [
    "There are many more packages, e.g.,\n",
    "\n",
    "- Beautiful Soup (**beautifulsoup4**) - a package for working with website text (HTML, XML). Beautiful Soup is similar to the tidyverse’s **rvest**\n",
    "- **Pipenv** - a software development package aimed at streamlining development and making managing requirements easy.\n",
    "- **NLTK** - the Natural Language Toolkit is a package created to contain a rich set of natural language processing tools and make prototyping quick."
   ]
  },
  {
   "cell_type": "markdown",
   "metadata": {},
   "source": [
    "(c) Mango Solutions"
   ]
  },
  {
   "cell_type": "code",
   "execution_count": null,
   "metadata": {},
   "outputs": [],
   "source": []
  }
 ],
 "metadata": {
  "kernelspec": {
   "display_name": "Python 3",
   "language": "python",
   "name": "python3"
  },
  "language_info": {
   "codemirror_mode": {
    "name": "ipython",
    "version": 3
   },
   "file_extension": ".py",
   "mimetype": "text/x-python",
   "name": "python",
   "nbconvert_exporter": "python",
   "pygments_lexer": "ipython3",
   "version": "3.7.3"
  }
 },
 "nbformat": 4,
 "nbformat_minor": 2
}
